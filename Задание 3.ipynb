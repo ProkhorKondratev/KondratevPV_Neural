{
 "cells": [
  {
   "cell_type": "raw",
   "source": [
    "Практическая работа №1. Задание 3.\n",
    "Обучение нейрона дельта методом для операции конъюнкция"
   ],
   "metadata": {
    "collapsed": false,
    "pycharm": {
     "name": "#%% raw\n"
    }
   }
  },
  {
   "cell_type": "code",
   "execution_count": 2,
   "outputs": [
    {
     "name": "stdout",
     "output_type": "stream",
     "text": [
      "Стартовые веса: [0.91, 0.71]\n",
      "Конечные веса: [0.91, 0.71]\n",
      "Результаты: 1 0 0 0\n",
      "Верные:     1 0 0 0\n"
     ]
    }
   ],
   "source": [
    "from random import randint\n",
    "\n",
    "def predict(train_x: list) -> int:\n",
    "    pred = train_x[0] * w[0] + train_x[1] * w[1]\n",
    "    return 1 if pred >= 1 else 0\n",
    "\n",
    "def train():\n",
    "    for i in range(len(x_train)):\n",
    "        error = y_train[i] - predict(x_train[i])\n",
    "        if error != 0:\n",
    "            w[0] += round(error * x_train[i][0] * speed, 2)\n",
    "            w[1] += round(error * x_train[i][1] * speed, 2)\n",
    "            print('Новые веса:', w)\n",
    "\n",
    "def epoch(count):\n",
    "    for i in range(count):\n",
    "        train()\n",
    "\n",
    "speed = 0.3\n",
    "w = [randint(0, 100) / 100, randint(0, 100) / 100]\n",
    "print('Стартовые веса:', w)\n",
    "\n",
    "x_train = [[1, 1], [1, 0], [0, 1], [0, 0]]\n",
    "y_train = [1, 0, 0, 0]\n",
    "\n",
    "epoch(5)\n",
    "print('Конечные веса:', w)\n",
    "print('Результаты:', predict([1, 1]), predict([1, 0]), predict([0, 1]), predict([0, 0]))\n",
    "print('Верные:    ', *y_train, sep=' ')"
   ],
   "metadata": {
    "collapsed": false,
    "pycharm": {
     "name": "#%%\n"
    }
   }
  },
  {
   "cell_type": "raw",
   "source": [
    "Практическая работа №1. Задание 3.\n",
    "Обучение нейрона дельта методом для операции дизъюнкция"
   ],
   "metadata": {
    "collapsed": false,
    "pycharm": {
     "name": "#%% raw\n"
    }
   }
  },
  {
   "cell_type": "code",
   "execution_count": 3,
   "outputs": [
    {
     "name": "stdout",
     "output_type": "stream",
     "text": [
      "Стартовые веса: [0.2, 0.61]\n",
      "Новые веса: [0.5, 0.9099999999999999]\n",
      "Новые веса: [0.8, 0.9099999999999999]\n",
      "Новые веса: [0.8, 1.21]\n",
      "Новые веса: [1.1, 1.21]\n",
      "Конечные веса: [1.1, 1.21]\n",
      "Результаты: 1 1 1 0\n",
      "Верные:     1 1 1 0\n"
     ]
    }
   ],
   "source": [
    "from random import randint\n",
    "\n",
    "def predict(train_x: list) -> int:\n",
    "    pred = train_x[0] * w[0] + train_x[1] * w[1]\n",
    "    return 1 if pred >= 1 else 0\n",
    "\n",
    "def train():\n",
    "    for i in range(len(x_train)):\n",
    "        error = y_train[i] - predict(x_train[i])\n",
    "        if error != 0:\n",
    "            w[0] += round(error * x_train[i][0] * speed, 2)\n",
    "            w[1] += round(error * x_train[i][1] * speed, 2)\n",
    "            print('Новые веса:', w)\n",
    "\n",
    "def epoch(count):\n",
    "    for i in range(count):\n",
    "        train()\n",
    "\n",
    "speed = 0.3\n",
    "w = [randint(0, 100) / 100, randint(0, 100) / 100]\n",
    "print('Стартовые веса:', w)\n",
    "\n",
    "x_train = [[1, 1], [1, 0], [0, 1], [0, 0]]\n",
    "y_train = [1, 1, 1, 0]\n",
    "\n",
    "epoch(5)\n",
    "print('Конечные веса:', w)\n",
    "print('Результаты:', predict([1, 1]), predict([1, 0]), predict([0, 1]), predict([0, 0]))\n",
    "print('Верные:    ', *y_train, sep=' ')"
   ],
   "metadata": {
    "collapsed": false,
    "pycharm": {
     "name": "#%%\n"
    }
   }
  },
  {
   "cell_type": "raw",
   "source": [
    "Практическая работа №1. Задание 3.\n",
    "Обучение нейрона дельта методом для операции XOR (используя один нейрон. В основе патент RU 2 269 155 C2 в образ. целях)"
   ],
   "metadata": {
    "collapsed": false
   }
  },
  {
   "cell_type": "code",
   "execution_count": 4,
   "outputs": [
    {
     "name": "stdout",
     "output_type": "stream",
     "text": [
      "Стартовые веса: [1, -1]\n",
      "Конечные веса: [1, -1]\n",
      "Результаты: 0 1 1 0\n",
      "Верные:     0 1 1 0\n"
     ]
    }
   ],
   "source": [
    "from random import randint\n",
    "\n",
    "def predict(train_x: list) -> int:\n",
    "    pred = abs(train_x[0] * w[0] + train_x[1] * w[1])\n",
    "    return 1 if pred >= 0.5 else 0\n",
    "\n",
    "def train():\n",
    "    for i in range(len(x_train)):\n",
    "        error = y_train[i] - predict(x_train[i])\n",
    "        if error != 0:\n",
    "            w[0] += round(error * x_train[i][0] * speed, 2)\n",
    "            w[1] += round(error * x_train[i][1] * speed, 2)\n",
    "\n",
    "def epoch(count):\n",
    "    for i in range(count):\n",
    "        train()\n",
    "\n",
    "speed = 1\n",
    "w = [1, -1]\n",
    "# w = [randint(0, 100) / 100, randint(0, 100) / 100]\n",
    "print('Стартовые веса:', w)\n",
    "\n",
    "x_train = [[1, 1], [1, 0], [0, 1], [0, 0]]\n",
    "y_train = [0, 1, 1, 0]\n",
    "\n",
    "epoch(100)\n",
    "print('Конечные веса:', w)\n",
    "print('Результаты:', predict([1, 1]), predict([1, 0]), predict([0, 1]), predict([0, 0]))\n",
    "print('Верные:    ', *y_train, sep=' ')"
   ],
   "metadata": {
    "collapsed": false,
    "pycharm": {
     "name": "#%%\n"
    }
   }
  },
  {
   "cell_type": "raw",
   "source": [
    "Практическая работа №1. Задание 3.\n",
    "Обучение нейрона дельта методом для операции конъюнкция отрицания x1 и x2"
   ],
   "metadata": {
    "collapsed": false,
    "pycharm": {
     "name": "#%% raw\n"
    }
   }
  },
  {
   "cell_type": "code",
   "execution_count": 5,
   "outputs": [
    {
     "name": "stdout",
     "output_type": "stream",
     "text": [
      "Стартовые веса: [0.19, 0.89]\n",
      "Новые веса: [-0.31, 0.39]\n",
      "Новые веса: [-0.31, 0.89]\n",
      "Новые веса: [-0.31, 1.3900000000000001]\n",
      "Новые веса: [-0.81, 0.8900000000000001]\n",
      "Новые веса: [-0.81, 1.3900000000000001]\n",
      "Конечные веса: [-0.81, 1.3900000000000001]\n",
      "Результаты: 0 0 1 0\n",
      "Верные:     0 0 1 0\n"
     ]
    }
   ],
   "source": [
    "from random import randint\n",
    "\n",
    "def predict(train_x: list) -> int:\n",
    "    pred = train_x[0] * w[0] + train_x[1] * w[1]\n",
    "    return 1 if pred >= 1 else 0\n",
    "\n",
    "def train():\n",
    "    for i in range(len(x_train)):\n",
    "        error = y_train[i] - predict(x_train[i])\n",
    "        if error != 0:\n",
    "            w[0] += round(error * x_train[i][0] * speed, 2)\n",
    "            w[1] += round(error * x_train[i][1] * speed, 2)\n",
    "            print('Новые веса:', w)\n",
    "\n",
    "def epoch(count):\n",
    "    for i in range(count):\n",
    "        train()\n",
    "\n",
    "speed = 0.5\n",
    "w = [randint(0, 100) / 100, randint(0, 100) / 100]\n",
    "print('Стартовые веса:', w)\n",
    "\n",
    "x_train = [[1, 1], [1, 0], [0, 1], [0, 0]]\n",
    "y_train = [0, 0, 1, 0]\n",
    "\n",
    "epoch(10)\n",
    "print('Конечные веса:', w)\n",
    "print('Результаты:', predict([1, 1]), predict([1, 0]), predict([0, 1]), predict([0, 0]))\n",
    "print('Верные:    ', *y_train, sep=' ')"
   ],
   "metadata": {
    "collapsed": false,
    "pycharm": {
     "name": "#%%\n"
    }
   }
  },
  {
   "cell_type": "raw",
   "source": [
    "Практическая работа №1. Задание 3.\n",
    "Обучение нейрона дельта методом для операции конъюнкции x1 и отрицания x2"
   ],
   "metadata": {
    "collapsed": false,
    "pycharm": {
     "name": "#%% raw\n"
    }
   }
  },
  {
   "cell_type": "code",
   "execution_count": 6,
   "outputs": [
    {
     "name": "stdout",
     "output_type": "stream",
     "text": [
      "Стартовые веса: [0.1, 0.05]\n",
      "Новые веса: [0.6, 0.05]\n",
      "Новые веса: [1.1, 0.05]\n",
      "Новые веса: [0.6000000000000001, -0.45]\n",
      "Новые веса: [1.1, -0.45]\n",
      "Конечные веса: [1.1, -0.45]\n",
      "Результаты: 0 1 0 0\n",
      "Верные:     0 1 0 0\n"
     ]
    }
   ],
   "source": [
    "from random import randint\n",
    "\n",
    "def predict(train_x: list) -> int:\n",
    "    pred = train_x[0] * w[0] + train_x[1] * w[1]\n",
    "    return 1 if pred >= 1 else 0\n",
    "\n",
    "def train():\n",
    "    for i in range(len(x_train)):\n",
    "        error = y_train[i] - predict(x_train[i])\n",
    "        if error != 0:\n",
    "            w[0] += round(error * x_train[i][0] * speed, 2)\n",
    "            w[1] += round(error * x_train[i][1] * speed, 2)\n",
    "            print('Новые веса:', w)\n",
    "\n",
    "def epoch(count):\n",
    "    for i in range(count):\n",
    "        train()\n",
    "\n",
    "speed = 0.5\n",
    "w = [randint(0, 100) / 100, randint(0, 100) / 100]\n",
    "print('Стартовые веса:', w)\n",
    "\n",
    "x_train = [[1, 1], [1, 0], [0, 1], [0, 0]]\n",
    "y_train = [0, 1, 0, 0]\n",
    "\n",
    "epoch(10)\n",
    "print('Конечные веса:', w)\n",
    "print('Результаты:', predict([1, 1]), predict([1, 0]), predict([0, 1]), predict([0, 0]))\n",
    "print('Верные:    ', *y_train, sep=' ')"
   ],
   "metadata": {
    "collapsed": false,
    "pycharm": {
     "name": "#%%\n"
    }
   }
  }
 ],
 "metadata": {
  "kernelspec": {
   "display_name": "Python 3",
   "language": "python",
   "name": "python3"
  },
  "language_info": {
   "codemirror_mode": {
    "name": "ipython",
    "version": 2
   },
   "file_extension": ".py",
   "mimetype": "text/x-python",
   "name": "python",
   "nbconvert_exporter": "python",
   "pygments_lexer": "ipython2",
   "version": "2.7.6"
  }
 },
 "nbformat": 4,
 "nbformat_minor": 0
}