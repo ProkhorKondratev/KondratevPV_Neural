{
  "nbformat": 4,
  "nbformat_minor": 0,
  "metadata": {
    "colab": {
      "provenance": [],
      "mount_file_id": "1M3YSckelfTCyKmTfqlK1wbFDS4MyRO9z",
      "authorship_tag": "ABX9TyPfQW8Wai1o+PEctIMBeiZO",
      "include_colab_link": true
    },
    "kernelspec": {
      "name": "python3",
      "display_name": "Python 3"
    },
    "language_info": {
      "name": "python"
    }
  },
  "cells": [
    {
      "cell_type": "markdown",
      "metadata": {
        "id": "view-in-github",
        "colab_type": "text"
      },
      "source": [
        "<a href=\"https://colab.research.google.com/github/ProkhorKondratev/KondratevPV_Neural/blob/main/%D0%9F%D1%80%D0%B0%D0%BA%D1%82%D0%B8%D1%87%D0%B5%D1%81%D0%BA%D0%B0%D1%8F%20%D1%80%D0%B0%D0%B1%D0%BE%D1%82%D0%B0%20%E2%84%962.%20%D0%97%D0%B0%D0%B4%D0%B0%D0%BD%D0%B8%D0%B5%202.ipynb\" target=\"_parent\"><img src=\"https://colab.research.google.com/assets/colab-badge.svg\" alt=\"Open In Colab\"/></a>"
      ]
    },
    {
      "cell_type": "markdown",
      "source": [
        "Практическая работа №2. Задание 2."
      ],
      "metadata": {
        "id": "ifq5x3kL9x39"
      }
    },
    {
      "cell_type": "markdown",
      "source": [
        "1.1 Загрузка данных"
      ],
      "metadata": {
        "id": "jjUeZFX7ISYR"
      }
    },
    {
      "cell_type": "code",
      "source": [
        "import cv2\n",
        "import os\n",
        "import numpy as np\n",
        "\n",
        "data_path = '/content/drive/MyDrive/Neural_class_data'\n",
        "class_dirs = []\n",
        "\n",
        "data = []\n",
        "labels = []\n",
        "\n",
        "for file in os.listdir(data_path):\n",
        "  class_dirs.append(os.path.join(data_path,file))\n",
        "\n",
        "for class_dir in class_dirs:\n",
        "  for image in os.listdir(class_dir):\n",
        "    image_path = os.path.join(class_dir, image)\n",
        "    image_label = image_path.split(os.path.sep)[-2]\n",
        "    \n",
        "    image = cv2.imread(image_path)\n",
        "    image = cv2.resize(image, (32, 32)).flatten()\n",
        "    data.append(image)\n",
        "    labels.append(image_label)\n",
        "\n",
        "print(f'Загружено {len(data)} изображений и {len(labels)} меток')"
      ],
      "metadata": {
        "colab": {
          "base_uri": "https://localhost:8080/"
        },
        "id": "4YLp5o1A92hr",
        "outputId": "6953e8d0-2da6-4603-bb75-0db5201b48af"
      },
      "execution_count": 29,
      "outputs": [
        {
          "output_type": "stream",
          "name": "stdout",
          "text": [
            "Загружено 3000 изображений и 3000 меток\n"
          ]
        }
      ]
    },
    {
      "cell_type": "markdown",
      "source": [
        "1.2 Нормализация данных"
      ],
      "metadata": {
        "id": "CDdyWlcwIJMw"
      }
    },
    {
      "cell_type": "code",
      "source": [
        "from keras.utils import to_categorical\n",
        "data = np.array(data, dtype=\"float\") / 255.0\n",
        "\n",
        "label_to_int = {\"zebra\": 0, \"lions\": 1, \"elephant\": 2}\n",
        "int_labels = [label_to_int[label] for label in labels]\n",
        "\n",
        "labels = to_categorical(int_labels)\n",
        "labels"
      ],
      "metadata": {
        "colab": {
          "base_uri": "https://localhost:8080/"
        },
        "id": "TJ9aTFRYIXSG",
        "outputId": "336e5616-2e62-4bd4-8be8-4a3436926877"
      },
      "execution_count": 37,
      "outputs": [
        {
          "output_type": "execute_result",
          "data": {
            "text/plain": [
              "array([[1., 0., 0.],\n",
              "       [1., 0., 0.],\n",
              "       [1., 0., 0.],\n",
              "       ...,\n",
              "       [0., 0., 1.],\n",
              "       [0., 0., 1.],\n",
              "       [0., 0., 1.]], dtype=float32)"
            ]
          },
          "metadata": {},
          "execution_count": 37
        }
      ]
    },
    {
      "cell_type": "markdown",
      "source": [
        "1.3 Разбивка на обучающую выборку и выборку валидации"
      ],
      "metadata": {
        "id": "YcavM91zInnN"
      }
    },
    {
      "cell_type": "code",
      "source": [
        "from sklearn.model_selection import train_test_split\n",
        "\n",
        "X_train_full, X_test, y_train_full, y_test = train_test_split(data, labels, test_size=0.2, random_state=42)\n",
        "X_train, X_valid, y_train, y_valid = train_test_split(X_train_full, y_train_full, test_size = 0.2)"
      ],
      "metadata": {
        "id": "dE_GxX5dIuYZ"
      },
      "execution_count": 38,
      "outputs": []
    },
    {
      "cell_type": "markdown",
      "source": [
        "1.4 Создание архитектуры нейронной сети"
      ],
      "metadata": {
        "id": "aK9c3QB4KEbS"
      }
    },
    {
      "cell_type": "code",
      "source": [
        "from keras.models import Sequential\n",
        "from keras.layers import Dense, Dropout\n",
        "from keras.utils import to_categorical\n",
        "\n",
        "model = Sequential()\n",
        "\n",
        "model.add(Dense(1024, input_shape=(3072,), activation=\"relu\"))\n",
        "model.add(Dense(512, activation=\"relu\"))\n",
        "model.add(Dropout(0.2))\n",
        "model.add(Dense(256, activation=\"relu\"))\n",
        "model.add(Dropout(0.2))\n",
        "model.add(Dense(128, activation=\"relu\"))\n",
        "model.add(Dropout(0.2))\n",
        "model.add(Dense(3, activation=\"softmax\"))"
      ],
      "metadata": {
        "id": "GZ8UFuKXEqG5"
      },
      "execution_count": 39,
      "outputs": []
    },
    {
      "cell_type": "markdown",
      "source": [
        "1.5 Компиляция нейронной сети"
      ],
      "metadata": {
        "id": "-zTf9XdeKJ9s"
      }
    },
    {
      "cell_type": "code",
      "source": [
        "model.compile(loss=\"categorical_crossentropy\", optimizer=\"adam\", metrics=[\"accuracy\"])\n",
        "model.summary()\n",
        "print(f'Используемый оптимизатор: {model.optimizer.name}')"
      ],
      "metadata": {
        "colab": {
          "base_uri": "https://localhost:8080/"
        },
        "id": "1nxmfAxPKPon",
        "outputId": "d727072d-f19a-4702-99d5-813c989e4f87"
      },
      "execution_count": 40,
      "outputs": [
        {
          "output_type": "stream",
          "name": "stdout",
          "text": [
            "Model: \"sequential_3\"\n",
            "_________________________________________________________________\n",
            " Layer (type)                Output Shape              Param #   \n",
            "=================================================================\n",
            " dense_15 (Dense)            (None, 1024)              3146752   \n",
            "                                                                 \n",
            " dense_16 (Dense)            (None, 512)               524800    \n",
            "                                                                 \n",
            " dropout_9 (Dropout)         (None, 512)               0         \n",
            "                                                                 \n",
            " dense_17 (Dense)            (None, 256)               131328    \n",
            "                                                                 \n",
            " dropout_10 (Dropout)        (None, 256)               0         \n",
            "                                                                 \n",
            " dense_18 (Dense)            (None, 128)               32896     \n",
            "                                                                 \n",
            " dropout_11 (Dropout)        (None, 128)               0         \n",
            "                                                                 \n",
            " dense_19 (Dense)            (None, 3)                 387       \n",
            "                                                                 \n",
            "=================================================================\n",
            "Total params: 3,836,163\n",
            "Trainable params: 3,836,163\n",
            "Non-trainable params: 0\n",
            "_________________________________________________________________\n",
            "Используемый оптимизатор: Adam\n"
          ]
        }
      ]
    },
    {
      "cell_type": "markdown",
      "source": [
        "1.6 Обучение нейронной сети"
      ],
      "metadata": {
        "id": "E8h7z27YKWUS"
      }
    },
    {
      "cell_type": "code",
      "source": [
        "history = model.fit(X_train, y_train, epochs=50, batch_size=1000, validation_data=(X_valid, y_valid), verbose=True)"
      ],
      "metadata": {
        "id": "-CFdFSXrKWol"
      },
      "execution_count": 41,
      "outputs": []
    },
    {
      "cell_type": "markdown",
      "source": [
        "1.7 Оценка критерия качества работы нейронной сети с помощью представления на графике"
      ],
      "metadata": {
        "id": "AJ4ocR3wK8hm"
      }
    },
    {
      "cell_type": "code",
      "source": [
        "import matplotlib.pyplot as plt\n",
        "\n",
        "plt.plot(history.history['loss'])\n",
        "plt.grid(True)\n",
        "plt.show()"
      ],
      "metadata": {
        "colab": {
          "base_uri": "https://localhost:8080/",
          "height": 430
        },
        "id": "bbaNX2o3K86y",
        "outputId": "ec17ed34-e3fc-430a-ce76-55cc0d929389"
      },
      "execution_count": 42,
      "outputs": [
        {
          "output_type": "display_data",
          "data": {
            "text/plain": [
              "<Figure size 640x480 with 1 Axes>"
            ],
            "image/png": "[encoded data removed]"
          },
          "metadata": {}
        }
      ]
    },
    {
      "cell_type": "markdown",
      "source": [
        "1.8 Оценка критерия качества работы нейронной сети на тестовой выборке"
      ],
      "metadata": {
        "id": "5EVqfP7DVbJL"
      }
    },
    {
      "cell_type": "code",
      "source": [
        "neural_loss = model.evaluate(X_test, y_test)\n",
        "neural_loss"
      ],
      "metadata": {
        "colab": {
          "base_uri": "https://localhost:8080/"
        },
        "id": "fUwaE7J0Vcy9",
        "outputId": "78da367f-a94d-4fe0-f19a-90905f275e89"
      },
      "execution_count": 44,
      "outputs": [
        {
          "output_type": "stream",
          "name": "stdout",
          "text": [
            "19/19 [==============================] - 1s 23ms/step - loss: 1.1002 - accuracy: 0.3100\n"
          ]
        },
        {
          "output_type": "execute_result",
          "data": {
            "text/plain": [
              "[1.1002037525177002, 0.3100000023841858]"
            ]
          },
          "metadata": {},
          "execution_count": 44
        }
      ]
    }
  ]
}