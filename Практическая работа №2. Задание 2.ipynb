{
  "nbformat": 4,
  "nbformat_minor": 0,
  "metadata": {
    "colab": {
      "provenance": [],
      "mount_file_id": "1M3YSckelfTCyKmTfqlK1wbFDS4MyRO9z",
      "authorship_tag": "ABX9TyPHHVl18NbKQcy8okgPoYxz",
      "include_colab_link": true
    },
    "kernelspec": {
      "name": "python3",
      "display_name": "Python 3"
    },
    "language_info": {
      "name": "python"
    }
  },
  "cells": [
    {
      "cell_type": "markdown",
      "metadata": {
        "id": "view-in-github",
        "colab_type": "text"
      },
      "source": [
        "<a href=\"https://colab.research.google.com/github/ProkhorKondratev/KondratevPV_Neural/blob/main/%D0%9F%D1%80%D0%B0%D0%BA%D1%82%D0%B8%D1%87%D0%B5%D1%81%D0%BA%D0%B0%D1%8F%20%D1%80%D0%B0%D0%B1%D0%BE%D1%82%D0%B0%20%E2%84%962.%20%D0%97%D0%B0%D0%B4%D0%B0%D0%BD%D0%B8%D0%B5%202.ipynb\" target=\"_parent\"><img src=\"https://colab.research.google.com/assets/colab-badge.svg\" alt=\"Open In Colab\"/></a>"
      ]
    },
    {
      "cell_type": "markdown",
      "source": [
        "Практическая работа №2. Задание 2."
      ],
      "metadata": {
        "id": "ifq5x3kL9x39"
      }
    },
    {
      "cell_type": "markdown",
      "source": [
        "1.1 Загрузка данных"
      ],
      "metadata": {
        "id": "jjUeZFX7ISYR"
      }
    },
    {
      "cell_type": "code",
      "source": [
        "import cv2\n",
        "import os\n",
        "import numpy as np\n",
        "\n",
        "data_path = '/content/drive/MyDrive/Neural_class_data'\n",
        "class_dirs = []\n",
        "\n",
        "data = []\n",
        "labels = []\n",
        "\n",
        "for file in os.listdir(data_path):\n",
        "  class_dirs.append(os.path.join(data_path,file))\n",
        "\n",
        "for class_dir in class_dirs:\n",
        "  for image in os.listdir(class_dir):\n",
        "    image_path = os.path.join(class_dir, image)\n",
        "    image_label = image_path.split(os.path.sep)[-2]\n",
        "    \n",
        "    image = cv2.imread(image_path)\n",
        "    image = cv2.resize(image, (32, 32)).flatten()\n",
        "    data.append(image)\n",
        "    labels.append(image_label)\n",
        "\n",
        "print(f'Загружено {len(data)} изображений и {len(labels)} меток')"
      ],
      "metadata": {
        "colab": {
          "base_uri": "https://localhost:8080/"
        },
        "id": "4YLp5o1A92hr",
        "outputId": "c83b898a-c156-492a-df47-68a24054d49f"
      },
      "execution_count": 48,
      "outputs": [
        {
          "output_type": "stream",
          "name": "stdout",
          "text": [
            "Загружено 3000 изображений и 3000 меток\n"
          ]
        }
      ]
    },
    {
      "cell_type": "markdown",
      "source": [
        "1.2 Нормализация данных"
      ],
      "metadata": {
        "id": "CDdyWlcwIJMw"
      }
    },
    {
      "cell_type": "code",
      "source": [
        "from keras.utils import to_categorical\n",
        "data = np.array(data, dtype=\"float\") / 255.0\n",
        "label_to_int = {\"lions\": 0, \"zebra\": 1, \"elephant\": 2}\n",
        "int_labels = [label_to_int[label] for label in labels]\n",
        "\n",
        "class_labels = to_categorical(int_labels)\n",
        "\n",
        "# labels = np.array(labels)\n",
        "# label_to_int = {\"lions\": 0, \"zebra\": 1, \"elephant\": 2}\n",
        "# int_labels = [label_to_int[label] for label in labels]\n",
        "\n",
        "# labels = to_categorical(int_labels)\n",
        "# labels"
      ],
      "metadata": {
        "colab": {
          "base_uri": "https://localhost:8080/"
        },
        "id": "TJ9aTFRYIXSG",
        "outputId": "4072efe6-4768-4812-d034-44faecad8d9e"
      },
      "execution_count": 50,
      "outputs": [
        {
          "output_type": "execute_result",
          "data": {
            "text/plain": [
              "array([0.00179931, 0.0028912 , 0.00276817, ..., 0.00181469, 0.00269127,\n",
              "       0.00255286])"
            ]
          },
          "metadata": {},
          "execution_count": 50
        }
      ]
    },
    {
      "cell_type": "markdown",
      "source": [
        "1.3 Разбивка на обучающую выборку и выборку валидации"
      ],
      "metadata": {
        "id": "YcavM91zInnN"
      }
    },
    {
      "cell_type": "code",
      "source": [
        "from sklearn.model_selection import train_test_split\n",
        "\n",
        "X_train_full, X_test, y_train_full, y_test = train_test_split(data, class_labels, test_size=0.2, random_state=42)\n",
        "X_train, X_valid, y_train, y_valid = train_test_split(X_train_full, y_train_full, test_size = 0.2)"
      ],
      "metadata": {
        "id": "dE_GxX5dIuYZ"
      },
      "execution_count": 51,
      "outputs": []
    },
    {
      "cell_type": "markdown",
      "source": [
        "1.4 Создание архитектуры нейронной сети"
      ],
      "metadata": {
        "id": "aK9c3QB4KEbS"
      }
    },
    {
      "cell_type": "code",
      "source": [
        "from keras.models import Sequential\n",
        "from keras.layers import Dense, Dropout\n",
        "from keras.utils import to_categorical\n",
        "\n",
        "model = Sequential()\n",
        "\n",
        "model.add(Dense(1024, input_shape=(3072,), activation=\"relu\"))\n",
        "model.add(Dense(512, activation=\"relu\"))\n",
        "model.add(Dropout(0.2))\n",
        "model.add(Dense(256, activation=\"relu\"))\n",
        "model.add(Dropout(0.2))\n",
        "model.add(Dense(128, activation=\"relu\"))\n",
        "model.add(Dropout(0.2))\n",
        "model.add(Dense(3, activation=\"softmax\"))"
      ],
      "metadata": {
        "id": "GZ8UFuKXEqG5"
      },
      "execution_count": 52,
      "outputs": []
    },
    {
      "cell_type": "markdown",
      "source": [
        "1.5 Компиляция нейронной сети"
      ],
      "metadata": {
        "id": "-zTf9XdeKJ9s"
      }
    },
    {
      "cell_type": "code",
      "source": [
        "model.compile(loss=\"categorical_crossentropy\", optimizer=\"adam\", metrics=[\"accuracy\"])\n",
        "model.summary()\n",
        "print(f'Используемый оптимизатор: {model.optimizer.name}')"
      ],
      "metadata": {
        "colab": {
          "base_uri": "https://localhost:8080/"
        },
        "id": "1nxmfAxPKPon",
        "outputId": "c11071cf-6db1-469e-9473-0e970c03f140"
      },
      "execution_count": 53,
      "outputs": [
        {
          "output_type": "stream",
          "name": "stdout",
          "text": [
            "Model: \"sequential_2\"\n",
            "_________________________________________________________________\n",
            " Layer (type)                Output Shape              Param #   \n",
            "=================================================================\n",
            " dense_10 (Dense)            (None, 1024)              3146752   \n",
            "                                                                 \n",
            " dense_11 (Dense)            (None, 512)               524800    \n",
            "                                                                 \n",
            " dropout_6 (Dropout)         (None, 512)               0         \n",
            "                                                                 \n",
            " dense_12 (Dense)            (None, 256)               131328    \n",
            "                                                                 \n",
            " dropout_7 (Dropout)         (None, 256)               0         \n",
            "                                                                 \n",
            " dense_13 (Dense)            (None, 128)               32896     \n",
            "                                                                 \n",
            " dropout_8 (Dropout)         (None, 128)               0         \n",
            "                                                                 \n",
            " dense_14 (Dense)            (None, 3)                 387       \n",
            "                                                                 \n",
            "=================================================================\n",
            "Total params: 3,836,163\n",
            "Trainable params: 3,836,163\n",
            "Non-trainable params: 0\n",
            "_________________________________________________________________\n",
            "Используемый оптимизатор: Adam\n"
          ]
        }
      ]
    },
    {
      "cell_type": "markdown",
      "source": [
        "1.6 Обучение нейронной сети"
      ],
      "metadata": {
        "id": "E8h7z27YKWUS"
      }
    },
    {
      "cell_type": "code",
      "source": [
        "history = model.fit(X_train, y_train, epochs=50, batch_size=1000, validation_data=(X_valid, y_valid), verbose=True)"
      ],
      "metadata": {
        "id": "-CFdFSXrKWol",
        "outputId": "0cdb50ec-9b4e-4649-e824-fd86b450287a",
        "colab": {
          "base_uri": "https://localhost:8080/"
        }
      },
      "execution_count": 54,
      "outputs": [
        {
          "output_type": "stream",
          "name": "stdout",
          "text": [
            "Epoch 1/50\n",
            "2/2 [==============================] - 3s 940ms/step - loss: 1.0983 - accuracy: 0.3443 - val_loss: 1.0952 - val_accuracy: 0.4646\n",
            "Epoch 2/50\n",
            "2/2 [==============================] - 1s 679ms/step - loss: 1.0959 - accuracy: 0.3807 - val_loss: 1.0881 - val_accuracy: 0.4729\n",
            "Epoch 3/50\n",
            "2/2 [==============================] - 1s 694ms/step - loss: 1.0900 - accuracy: 0.4146 - val_loss: 1.0769 - val_accuracy: 0.5104\n",
            "Epoch 4/50\n",
            "2/2 [==============================] - 1s 674ms/step - loss: 1.0770 - accuracy: 0.4885 - val_loss: 1.0514 - val_accuracy: 0.5333\n",
            "Epoch 5/50\n",
            "2/2 [==============================] - 1s 378ms/step - loss: 1.0586 - accuracy: 0.5073 - val_loss: 1.0277 - val_accuracy: 0.5604\n",
            "Epoch 6/50\n",
            "2/2 [==============================] - 1s 370ms/step - loss: 1.0314 - accuracy: 0.5240 - val_loss: 0.9909 - val_accuracy: 0.5125\n",
            "Epoch 7/50\n",
            "2/2 [==============================] - 1s 447ms/step - loss: 1.0105 - accuracy: 0.5141 - val_loss: 0.9724 - val_accuracy: 0.5604\n",
            "Epoch 8/50\n",
            "2/2 [==============================] - 1s 377ms/step - loss: 0.9926 - accuracy: 0.5401 - val_loss: 0.9412 - val_accuracy: 0.5646\n",
            "Epoch 9/50\n",
            "2/2 [==============================] - 1s 454ms/step - loss: 0.9748 - accuracy: 0.5422 - val_loss: 0.9292 - val_accuracy: 0.5667\n",
            "Epoch 10/50\n",
            "2/2 [==============================] - 1s 384ms/step - loss: 0.9608 - accuracy: 0.5641 - val_loss: 0.9207 - val_accuracy: 0.5813\n",
            "Epoch 11/50\n",
            "2/2 [==============================] - 1s 371ms/step - loss: 0.9525 - accuracy: 0.5719 - val_loss: 0.9103 - val_accuracy: 0.5792\n",
            "Epoch 12/50\n",
            "2/2 [==============================] - 1s 387ms/step - loss: 0.9189 - accuracy: 0.5839 - val_loss: 0.9062 - val_accuracy: 0.5688\n",
            "Epoch 13/50\n",
            "2/2 [==============================] - 1s 391ms/step - loss: 0.9105 - accuracy: 0.5948 - val_loss: 0.8946 - val_accuracy: 0.5958\n",
            "Epoch 14/50\n",
            "2/2 [==============================] - 1s 379ms/step - loss: 0.8931 - accuracy: 0.6005 - val_loss: 0.8945 - val_accuracy: 0.5896\n",
            "Epoch 15/50\n",
            "2/2 [==============================] - 1s 381ms/step - loss: 0.8823 - accuracy: 0.6036 - val_loss: 0.8822 - val_accuracy: 0.6083\n",
            "Epoch 16/50\n",
            "2/2 [==============================] - 1s 378ms/step - loss: 0.8767 - accuracy: 0.6099 - val_loss: 0.8679 - val_accuracy: 0.6146\n",
            "Epoch 17/50\n",
            "2/2 [==============================] - 1s 369ms/step - loss: 0.8663 - accuracy: 0.6151 - val_loss: 0.8666 - val_accuracy: 0.6021\n",
            "Epoch 18/50\n",
            "2/2 [==============================] - 1s 387ms/step - loss: 0.8596 - accuracy: 0.6172 - val_loss: 0.8569 - val_accuracy: 0.6125\n",
            "Epoch 19/50\n",
            "2/2 [==============================] - 1s 585ms/step - loss: 0.8384 - accuracy: 0.6344 - val_loss: 0.8690 - val_accuracy: 0.5979\n",
            "Epoch 20/50\n",
            "2/2 [==============================] - 1s 673ms/step - loss: 0.8430 - accuracy: 0.6203 - val_loss: 0.8536 - val_accuracy: 0.6208\n",
            "Epoch 21/50\n",
            "2/2 [==============================] - 1s 651ms/step - loss: 0.8229 - accuracy: 0.6505 - val_loss: 0.8484 - val_accuracy: 0.6229\n",
            "Epoch 22/50\n",
            "2/2 [==============================] - 1s 641ms/step - loss: 0.8139 - accuracy: 0.6479 - val_loss: 0.8359 - val_accuracy: 0.6229\n",
            "Epoch 23/50\n",
            "2/2 [==============================] - 1s 383ms/step - loss: 0.8086 - accuracy: 0.6599 - val_loss: 0.8252 - val_accuracy: 0.6313\n",
            "Epoch 24/50\n",
            "2/2 [==============================] - 1s 361ms/step - loss: 0.7810 - accuracy: 0.6745 - val_loss: 0.8123 - val_accuracy: 0.6375\n",
            "Epoch 25/50\n",
            "2/2 [==============================] - 1s 363ms/step - loss: 0.7736 - accuracy: 0.6635 - val_loss: 0.7890 - val_accuracy: 0.6583\n",
            "Epoch 26/50\n",
            "2/2 [==============================] - 1s 452ms/step - loss: 0.7479 - accuracy: 0.6870 - val_loss: 0.7890 - val_accuracy: 0.6479\n",
            "Epoch 27/50\n",
            "2/2 [==============================] - 1s 361ms/step - loss: 0.7476 - accuracy: 0.6927 - val_loss: 0.7793 - val_accuracy: 0.6562\n",
            "Epoch 28/50\n",
            "2/2 [==============================] - 1s 379ms/step - loss: 0.7199 - accuracy: 0.6979 - val_loss: 0.7641 - val_accuracy: 0.6604\n",
            "Epoch 29/50\n",
            "2/2 [==============================] - 1s 388ms/step - loss: 0.7169 - accuracy: 0.6979 - val_loss: 0.8661 - val_accuracy: 0.6187\n",
            "Epoch 30/50\n",
            "2/2 [==============================] - 1s 378ms/step - loss: 0.7494 - accuracy: 0.6828 - val_loss: 0.7699 - val_accuracy: 0.6375\n",
            "Epoch 31/50\n",
            "2/2 [==============================] - 1s 371ms/step - loss: 0.7129 - accuracy: 0.6953 - val_loss: 0.7511 - val_accuracy: 0.6542\n",
            "Epoch 32/50\n",
            "2/2 [==============================] - 1s 385ms/step - loss: 0.6850 - accuracy: 0.7219 - val_loss: 0.7943 - val_accuracy: 0.6396\n",
            "Epoch 33/50\n",
            "2/2 [==============================] - 1s 360ms/step - loss: 0.6911 - accuracy: 0.7141 - val_loss: 0.7667 - val_accuracy: 0.6458\n",
            "Epoch 34/50\n",
            "2/2 [==============================] - 1s 382ms/step - loss: 0.6772 - accuracy: 0.7234 - val_loss: 0.7465 - val_accuracy: 0.6667\n",
            "Epoch 35/50\n",
            "2/2 [==============================] - 1s 372ms/step - loss: 0.6783 - accuracy: 0.7292 - val_loss: 0.8195 - val_accuracy: 0.6375\n",
            "Epoch 36/50\n",
            "2/2 [==============================] - 1s 366ms/step - loss: 0.6895 - accuracy: 0.7172 - val_loss: 0.8372 - val_accuracy: 0.6146\n",
            "Epoch 37/50\n",
            "2/2 [==============================] - 1s 366ms/step - loss: 0.7228 - accuracy: 0.6964 - val_loss: 0.7923 - val_accuracy: 0.6562\n",
            "Epoch 38/50\n",
            "2/2 [==============================] - 1s 674ms/step - loss: 0.7019 - accuracy: 0.7010 - val_loss: 0.7522 - val_accuracy: 0.6562\n",
            "Epoch 39/50\n",
            "2/2 [==============================] - 1s 655ms/step - loss: 0.6763 - accuracy: 0.7193 - val_loss: 0.7529 - val_accuracy: 0.6708\n",
            "Epoch 40/50\n",
            "2/2 [==============================] - 1s 666ms/step - loss: 0.6614 - accuracy: 0.7349 - val_loss: 0.7488 - val_accuracy: 0.6625\n",
            "Epoch 41/50\n",
            "2/2 [==============================] - 1s 622ms/step - loss: 0.6455 - accuracy: 0.7437 - val_loss: 0.7665 - val_accuracy: 0.6562\n",
            "Epoch 42/50\n",
            "2/2 [==============================] - 1s 448ms/step - loss: 0.6367 - accuracy: 0.7484 - val_loss: 0.7564 - val_accuracy: 0.6604\n",
            "Epoch 43/50\n",
            "2/2 [==============================] - 1s 373ms/step - loss: 0.6277 - accuracy: 0.7604 - val_loss: 0.7679 - val_accuracy: 0.6583\n",
            "Epoch 44/50\n",
            "2/2 [==============================] - 1s 367ms/step - loss: 0.6396 - accuracy: 0.7479 - val_loss: 0.7488 - val_accuracy: 0.6750\n",
            "Epoch 45/50\n",
            "2/2 [==============================] - 1s 371ms/step - loss: 0.6331 - accuracy: 0.7437 - val_loss: 0.7537 - val_accuracy: 0.6729\n",
            "Epoch 46/50\n",
            "2/2 [==============================] - 1s 373ms/step - loss: 0.6089 - accuracy: 0.7677 - val_loss: 0.7624 - val_accuracy: 0.6729\n",
            "Epoch 47/50\n",
            "2/2 [==============================] - 1s 370ms/step - loss: 0.6179 - accuracy: 0.7578 - val_loss: 0.7509 - val_accuracy: 0.6521\n",
            "Epoch 48/50\n",
            "2/2 [==============================] - 1s 379ms/step - loss: 0.6014 - accuracy: 0.7661 - val_loss: 0.7627 - val_accuracy: 0.6583\n",
            "Epoch 49/50\n",
            "2/2 [==============================] - 1s 381ms/step - loss: 0.5953 - accuracy: 0.7740 - val_loss: 0.7531 - val_accuracy: 0.6604\n",
            "Epoch 50/50\n",
            "2/2 [==============================] - 1s 372ms/step - loss: 0.5902 - accuracy: 0.7714 - val_loss: 0.7645 - val_accuracy: 0.6646\n"
          ]
        }
      ]
    },
    {
      "cell_type": "markdown",
      "source": [
        "1.7 Оценка критерия качества работы нейронной сети с помощью представления на графике"
      ],
      "metadata": {
        "id": "AJ4ocR3wK8hm"
      }
    },
    {
      "cell_type": "code",
      "source": [
        "import matplotlib.pyplot as plt\n",
        "plt.style.use(\"ggplot\")\n",
        "plt.figure()\n",
        "plt.plot(history.history[\"loss\"], label=\"train_loss\")\n",
        "plt.plot(history.history[\"val_loss\"], label=\"val_loss\")\n",
        "plt.plot(history.history[\"accuracy\"], label=\"train_acc\")\n",
        "plt.plot(history.history[\"val_accuracy\"], label=\"val_acc\")\n",
        "plt.title(\"Training Loss and Accuracy (Simple NN)\")\n",
        "plt.xlabel(\"Epoch #\")\n",
        "plt.ylabel(\"Loss/Accuracy\")\n",
        "plt.legend()\n",
        "\n",
        "plt.grid(True)\n",
        "plt.show()"
      ],
      "metadata": {
        "colab": {
          "base_uri": "https://localhost:8080/",
          "height": 477
        },
        "id": "bbaNX2o3K86y",
        "outputId": "d167bf33-c3f0-47e7-c197-3ca9235e362f"
      },
      "execution_count": 63,
      "outputs": [
        {
          "output_type": "display_data",
          "data": {
            "text/plain": [
              "<Figure size 640x480 with 1 Axes>"
            ],
            "image/png": "[encoded data removed]"
          },
          "metadata": {}
        }
      ]
    },
    {
      "cell_type": "markdown",
      "source": [
        "1.8 Оценка критерия качества работы нейронной сети на тестовой выборке"
      ],
      "metadata": {
        "id": "5EVqfP7DVbJL"
      }
    },
    {
      "cell_type": "code",
      "source": [
        "neural_loss = model.evaluate(X_test, y_test)\n",
        "neural_loss"
      ],
      "metadata": {
        "colab": {
          "base_uri": "https://localhost:8080/"
        },
        "id": "fUwaE7J0Vcy9",
        "outputId": "afda3bcb-d1c2-4827-991a-b0a53361d9ff"
      },
      "execution_count": 64,
      "outputs": [
        {
          "output_type": "stream",
          "name": "stdout",
          "text": [
            "19/19 [==============================] - 0s 10ms/step - loss: 0.6861 - accuracy: 0.7333\n"
          ]
        },
        {
          "output_type": "execute_result",
          "data": {
            "text/plain": [
              "[0.6860584020614624, 0.7333333492279053]"
            ]
          },
          "metadata": {},
          "execution_count": 64
        }
      ]
    },
    {
      "cell_type": "markdown",
      "source": [
        "1.9 Предсказание на тестовых данных"
      ],
      "metadata": {
        "id": "O6cYuV6lqyLC"
      }
    },
    {
      "cell_type": "code",
      "source": [
        "X_new = X_test[:10]\n",
        "Y_new = y_test[:10]\n",
        "y_pred = model.predict(X_new)\n",
        "\n",
        "class_dict = {\n",
        "    0: \"львы\",\n",
        "    1: \"зебры\",\n",
        "    2: \"слоны\"\n",
        "}\n",
        "\n",
        "for i in range(len(y_pred)):\n",
        "  neural_res = y_pred[i].argmax()\n",
        "  real_res = Y_new[i].argmax()\n",
        "  print(f'Определено: {neural_res} ({class_dict[neural_res]})  Правильное: {real_res} ({class_dict[real_res]})')"
      ],
      "metadata": {
        "id": "QbFCJVmJqyZr",
        "outputId": "d7a1f566-1f5b-4288-ae74-17ad61ced6cd",
        "colab": {
          "base_uri": "https://localhost:8080/"
        }
      },
      "execution_count": 69,
      "outputs": [
        {
          "output_type": "stream",
          "name": "stdout",
          "text": [
            "1/1 [==============================] - 0s 29ms/step\n",
            "Определено: 1 (зебры)  Правильное: 1 (зебры)\n",
            "Определено: 1 (зебры)  Правильное: 1 (зебры)\n",
            "Определено: 1 (зебры)  Правильное: 1 (зебры)\n",
            "Определено: 0 (львы)  Правильное: 0 (львы)\n",
            "Определено: 2 (слоны)  Правильное: 2 (слоны)\n",
            "Определено: 0 (львы)  Правильное: 1 (зебры)\n",
            "Определено: 1 (зебры)  Правильное: 1 (зебры)\n",
            "Определено: 2 (слоны)  Правильное: 2 (слоны)\n",
            "Определено: 0 (львы)  Правильное: 0 (львы)\n",
            "Определено: 1 (зебры)  Правильное: 2 (слоны)\n"
          ]
        }
      ]
    },
    {
      "cell_type": "markdown",
      "source": [
        "2.0 Сохранение обученной модели и меток классов на диск"
      ],
      "metadata": {
        "id": "9N4ZhMkdwJQd"
      }
    },
    {
      "cell_type": "code",
      "source": [
        "import pickle\n",
        "\n",
        "try:\n",
        "  model.save('model.h5', save_format='h5')\n",
        "  with open('label_bin', 'wb') as f:\n",
        "    pickle.dump(class_dict, f)\n",
        "  \n",
        "  print('Успешное сохранение')\n",
        "\n",
        "except Exception as error:\n",
        "  print(error)"
      ],
      "metadata": {
        "id": "o1QDyqjswTGj",
        "outputId": "a13554d6-e7ba-448e-a686-c33587e1f450",
        "colab": {
          "base_uri": "https://localhost:8080/"
        }
      },
      "execution_count": 70,
      "outputs": [
        {
          "output_type": "stream",
          "name": "stdout",
          "text": [
            "Успешное сохранение\n"
          ]
        }
      ]
    },
    {
      "cell_type": "markdown",
      "source": [
        "2.1 Проверка обученной модели пользовательскими данными"
      ],
      "metadata": {
        "id": "rCXoDxuVxx-z"
      }
    },
    {
      "cell_type": "code",
      "source": [
        "from google.colab import files\n",
        "uploaded = files.upload()\n",
        "\n",
        "if uploaded:\n",
        "  image = cv2.imread(list(uploaded.keys())[0])\n",
        "  output = image.copy()\n",
        "  image = cv2.resize(image, (32, 32))\n",
        "  cv2.imshow(image)"
      ],
      "metadata": {
        "id": "1nITHQ-DxyQj",
        "outputId": "edf26e9e-a18c-414f-da19-7b4d2e953f4b",
        "colab": {
          "base_uri": "https://localhost:8080/",
          "height": 35
        }
      },
      "execution_count": 79,
      "outputs": [
        {
          "output_type": "display_data",
          "data": {
            "text/plain": [
              "<IPython.core.display.HTML object>"
            ],
            "text/html": [
              "\n",
              "     <input type=\"file\" id=\"files-c2b084e4-9655-4d5d-a565-e466c9852185\" name=\"files[]\" multiple disabled\n",
              "        style=\"border:none\" />\n",
              "     <output id=\"result-c2b084e4-9655-4d5d-a565-e466c9852185\">\n",
              "      Upload widget is only available when the cell has been executed in the\n",
              "      current browser session. Please rerun this cell to enable.\n",
              "      </output>\n",
              "      <script>// Copyright 2017 Google LLC\n",
              "//\n",
              "// Licensed under the Apache License, Version 2.0 (the \"License\");\n",
              "// you may not use this file except in compliance with the License.\n",
              "// You may obtain a copy of the License at\n",
              "//\n",
              "//      http://www.apache.org/licenses/LICENSE-2.0\n",
              "//\n",
              "// Unless required by applicable law or agreed to in writing, software\n",
              "// distributed under the License is distributed on an \"AS IS\" BASIS,\n",
              "// WITHOUT WARRANTIES OR CONDITIONS OF ANY KIND, either express or implied.\n",
              "// See the License for the specific language governing permissions and\n",
              "// limitations under the License.\n",
              "\n",
              "/**\n",
              " * @fileoverview Helpers for google.colab Python module.\n",
              " */\n",
              "(function(scope) {\n",
              "function span(text, styleAttributes = {}) {\n",
              "  const element = document.createElement('span');\n",
              "  element.textContent = text;\n",
              "  for (const key of Object.keys(styleAttributes)) {\n",
              "    element.style[key] = styleAttributes[key];\n",
              "  }\n",
              "  return element;\n",
              "}\n",
              "\n",
              "// Max number of bytes which will be uploaded at a time.\n",
              "const MAX_PAYLOAD_SIZE = 100 * 1024;\n",
              "\n",
              "function _uploadFiles(inputId, outputId) {\n",
              "  const steps = uploadFilesStep(inputId, outputId);\n",
              "  const outputElement = document.getElementById(outputId);\n",
              "  // Cache steps on the outputElement to make it available for the next call\n",
              "  // to uploadFilesContinue from Python.\n",
              "  outputElement.steps = steps;\n",
              "\n",
              "  return _uploadFilesContinue(outputId);\n",
              "}\n",
              "\n",
              "// This is roughly an async generator (not supported in the browser yet),\n",
              "// where there are multiple asynchronous steps and the Python side is going\n",
              "// to poll for completion of each step.\n",
              "// This uses a Promise to block the python side on completion of each step,\n",
              "// then passes the result of the previous step as the input to the next step.\n",
              "function _uploadFilesContinue(outputId) {\n",
              "  const outputElement = document.getElementById(outputId);\n",
              "  const steps = outputElement.steps;\n",
              "\n",
              "  const next = steps.next(outputElement.lastPromiseValue);\n",
              "  return Promise.resolve(next.value.promise).then((value) => {\n",
              "    // Cache the last promise value to make it available to the next\n",
              "    // step of the generator.\n",
              "    outputElement.lastPromiseValue = value;\n",
              "    return next.value.response;\n",
              "  });\n",
              "}\n",
              "\n",
              "/**\n",
              " * Generator function which is called between each async step of the upload\n",
              " * process.\n",
              " * @param {string} inputId Element ID of the input file picker element.\n",
              " * @param {string} outputId Element ID of the output display.\n",
              " * @return {!Iterable<!Object>} Iterable of next steps.\n",
              " */\n",
              "function* uploadFilesStep(inputId, outputId) {\n",
              "  const inputElement = document.getElementById(inputId);\n",
              "  inputElement.disabled = false;\n",
              "\n",
              "  const outputElement = document.getElementById(outputId);\n",
              "  outputElement.innerHTML = '';\n",
              "\n",
              "  const pickedPromise = new Promise((resolve) => {\n",
              "    inputElement.addEventListener('change', (e) => {\n",
              "      resolve(e.target.files);\n",
              "    });\n",
              "  });\n",
              "\n",
              "  const cancel = document.createElement('button');\n",
              "  inputElement.parentElement.appendChild(cancel);\n",
              "  cancel.textContent = 'Cancel upload';\n",
              "  const cancelPromise = new Promise((resolve) => {\n",
              "    cancel.onclick = () => {\n",
              "      resolve(null);\n",
              "    };\n",
              "  });\n",
              "\n",
              "  // Wait for the user to pick the files.\n",
              "  const files = yield {\n",
              "    promise: Promise.race([pickedPromise, cancelPromise]),\n",
              "    response: {\n",
              "      action: 'starting',\n",
              "    }\n",
              "  };\n",
              "\n",
              "  cancel.remove();\n",
              "\n",
              "  // Disable the input element since further picks are not allowed.\n",
              "  inputElement.disabled = true;\n",
              "\n",
              "  if (!files) {\n",
              "    return {\n",
              "      response: {\n",
              "        action: 'complete',\n",
              "      }\n",
              "    };\n",
              "  }\n",
              "\n",
              "  for (const file of files) {\n",
              "    const li = document.createElement('li');\n",
              "    li.append(span(file.name, {fontWeight: 'bold'}));\n",
              "    li.append(span(\n",
              "        `(${file.type || 'n/a'}) - ${file.size} bytes, ` +\n",
              "        `last modified: ${\n",
              "            file.lastModifiedDate ? file.lastModifiedDate.toLocaleDateString() :\n",
              "                                    'n/a'} - `));\n",
              "    const percent = span('0% done');\n",
              "    li.appendChild(percent);\n",
              "\n",
              "    outputElement.appendChild(li);\n",
              "\n",
              "    const fileDataPromise = new Promise((resolve) => {\n",
              "      const reader = new FileReader();\n",
              "      reader.onload = (e) => {\n",
              "        resolve(e.target.result);\n",
              "      };\n",
              "      reader.readAsArrayBuffer(file);\n",
              "    });\n",
              "    // Wait for the data to be ready.\n",
              "    let fileData = yield {\n",
              "      promise: fileDataPromise,\n",
              "      response: {\n",
              "        action: 'continue',\n",
              "      }\n",
              "    };\n",
              "\n",
              "    // Use a chunked sending to avoid message size limits. See b/62115660.\n",
              "    let position = 0;\n",
              "    do {\n",
              "      const length = Math.min(fileData.byteLength - position, MAX_PAYLOAD_SIZE);\n",
              "      const chunk = new Uint8Array(fileData, position, length);\n",
              "      position += length;\n",
              "\n",
              "      const base64 = btoa(String.fromCharCode.apply(null, chunk));\n",
              "      yield {\n",
              "        response: {\n",
              "          action: 'append',\n",
              "          file: file.name,\n",
              "          data: base64,\n",
              "        },\n",
              "      };\n",
              "\n",
              "      let percentDone = fileData.byteLength === 0 ?\n",
              "          100 :\n",
              "          Math.round((position / fileData.byteLength) * 100);\n",
              "      percent.textContent = `${percentDone}% done`;\n",
              "\n",
              "    } while (position < fileData.byteLength);\n",
              "  }\n",
              "\n",
              "  // All done.\n",
              "  yield {\n",
              "    response: {\n",
              "      action: 'complete',\n",
              "    }\n",
              "  };\n",
              "}\n",
              "\n",
              "scope.google = scope.google || {};\n",
              "scope.google.colab = scope.google.colab || {};\n",
              "scope.google.colab._files = {\n",
              "  _uploadFiles,\n",
              "  _uploadFilesContinue,\n",
              "};\n",
              "})(self);\n",
              "</script> "
            ]
          },
          "metadata": {}
        }
      ]
    },
    {
      "cell_type": "code",
      "source": [
        "image = image.flatten()\n",
        "image = image.astype(\"float\") / 255.0\n",
        "image = image.reshape((1, image.shape[0]))"
      ],
      "metadata": {
        "id": "3wA5nXgzz471"
      },
      "execution_count": null,
      "outputs": []
    },
    {
      "cell_type": "code",
      "source": [
        "from keras import models\n",
        "\n",
        "model = models.load_model(\"model.h5\")\n",
        "lb = pickle.loads(open(\"label_bin\", \"rb\").read())\n",
        "\n",
        "user_predict = model.predict(image)\n",
        "user_pred_index = user_predict.argmax()\n",
        "label = lb.[i]\n",
        "print(label)"
      ],
      "metadata": {
        "id": "neIw9Xjv0I2X",
        "outputId": "a9d811bf-6d96-42b1-c17e-eb62ccdba706",
        "colab": {
          "base_uri": "https://localhost:8080/"
        }
      },
      "execution_count": 80,
      "outputs": [
        {
          "output_type": "stream",
          "name": "stdout",
          "text": [
            "<class 'dict'>\n"
          ]
        }
      ]
    }
  ]
}