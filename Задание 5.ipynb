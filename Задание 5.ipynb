{
 "cells": [
  {
   "cell_type": "raw",
   "source": [
    "Практическая работа №1. Задание 5.\n",
    "Обучение нейрона дельта методом для операции конъюнкция c использованием нейрона смещения"
   ],
   "metadata": {
    "collapsed": false,
    "pycharm": {
     "name": "#%% raw\n"
    }
   }
  },
  {
   "cell_type": "code",
   "execution_count": 7,
   "outputs": [
    {
     "name": "stdout",
     "output_type": "stream",
     "text": [
      "Стартовые веса: [0.5, 0.1, 0.4]\n",
      "Конечные веса: [0.5, 0.1, 0.4]\n",
      "Результаты: 1 0 0 0\n",
      "Верные:     1 0 0 0\n"
     ]
    }
   ],
   "source": [
    "from random import randint\n",
    "\n",
    "def predict(train_x: list) -> int:\n",
    "    pred = train_x[0] * w[0] + train_x[1] * w[1] + train_x[2] * w[2]\n",
    "    return 1 if pred >= 1 else 0\n",
    "\n",
    "def train():\n",
    "    for i in range(len(x_train)):\n",
    "        error = y_train[i] - predict(x_train[i])\n",
    "        if error != 0:\n",
    "            w[0] += round(error * x_train[i][0] * speed, 2)\n",
    "            w[1] += round(error * x_train[i][1] * speed, 2)\n",
    "            w[2] += round(error * x_train[i][2] * speed, 2)\n",
    "            print('Новые веса:', w)\n",
    "\n",
    "def epoch(count):\n",
    "    for i in range(count):\n",
    "        train()\n",
    "\n",
    "speed = 0.5\n",
    "w = [randint(0, 100) / 100, randint(0, 100) / 100, randint(0, 100) / 100]\n",
    "print('Стартовые веса:', w)\n",
    "\n",
    "x_train = [[1, 1, 1], [1, 0, 1], [0, 1, 1], [0, 0, 1]]\n",
    "y_train = [1, 0, 0, 0]\n",
    "\n",
    "epoch(5)\n",
    "print('Конечные веса:', w)\n",
    "print('Результаты:', predict([1, 1, 1]), predict([1, 0, 1]), predict([0, 1, 1]), predict([0, 0, 1]))\n",
    "print('Верные:    ', *y_train, sep=' ')"
   ],
   "metadata": {
    "collapsed": false,
    "pycharm": {
     "name": "#%%\n"
    }
   }
  },
  {
   "cell_type": "raw",
   "source": [
    "Практическая работа №1. Задание 5.\n",
    "Обучение нейрона дельта методом для операции дизъюнкция c использованием нейрона смещения"
   ],
   "metadata": {
    "collapsed": false,
    "pycharm": {
     "name": "#%% raw\n"
    }
   }
  },
  {
   "cell_type": "code",
   "execution_count": 8,
   "outputs": [
    {
     "name": "stdout",
     "output_type": "stream",
     "text": [
      "Стартовые веса: [0.92, 0.9, 0.63]\n",
      "Конечные веса: [0.92, 0.9, 0.63]\n",
      "Результаты: 1 1 1 0\n",
      "Верные:     1 1 1 0\n"
     ]
    }
   ],
   "source": [
    "from random import randint\n",
    "\n",
    "def predict(train_x: list) -> int:\n",
    "    pred = train_x[0] * w[0] + train_x[1] * w[1] + train_x[2] * w[2]\n",
    "    return 1 if pred >= 1 else 0\n",
    "\n",
    "def train():\n",
    "    for i in range(len(x_train)):\n",
    "        error = y_train[i] - predict(x_train[i])\n",
    "        if error != 0:\n",
    "            w[0] += round(error * x_train[i][0] * speed, 2)\n",
    "            w[1] += round(error * x_train[i][1] * speed, 2)\n",
    "            w[2] += round(error * x_train[i][2] * speed, 2)\n",
    "            print('Новые веса:', w)\n",
    "\n",
    "def epoch(count):\n",
    "    for i in range(count):\n",
    "        train()\n",
    "\n",
    "speed = 0.5\n",
    "w = [randint(0, 100) / 100, randint(0, 100) / 100, randint(0, 100) / 100]\n",
    "print('Стартовые веса:', w)\n",
    "\n",
    "x_train = [[1, 1, 1], [1, 0, 1], [0, 1, 1], [0, 0, 1]]\n",
    "y_train = [1, 1, 1, 0]\n",
    "\n",
    "epoch(5)\n",
    "print('Конечные веса:', w)\n",
    "print('Результаты:', predict([1, 1, 1]), predict([1, 0, 1]), predict([0, 1, 1]), predict([0, 0, 1]))\n",
    "print('Верные:    ', *y_train, sep=' ')"
   ],
   "metadata": {
    "collapsed": false,
    "pycharm": {
     "name": "#%%\n"
    }
   }
  },
  {
   "cell_type": "raw",
   "source": [
    "Практическая работа №1. Задание 5.\n",
    "Обучение нейрона дельта методом для операции операции XOR\n",
    "(используя один нейрон. В основе патент RU 2 269 155 C2 в образ. целях) c использованием нейрона смещения"
   ],
   "metadata": {
    "collapsed": false,
    "pycharm": {
     "name": "#%% raw\n"
    }
   }
  },
  {
   "cell_type": "code",
   "execution_count": 9,
   "outputs": [
    {
     "name": "stdout",
     "output_type": "stream",
     "text": [
      "Стартовые веса: [1, -1, 1]\n",
      "Новые веса: [0.7, -1.3, 0.7]\n",
      "Новые веса: [0.7, -1.3, 0.39999999999999997]\n",
      "Конечные веса: [0.7, -1.3, 0.39999999999999997]\n",
      "Результаты: 0 1 1 0\n",
      "Верные:     0 1 1 0\n"
     ]
    }
   ],
   "source": [
    "from random import randint\n",
    "\n",
    "def predict(train_x: list) -> int:\n",
    "    pred = abs(train_x[0] * w[0] + train_x[1] * w[1] + train_x[2] * w[2])\n",
    "    return 1 if pred >= 0.5 else 0\n",
    "\n",
    "def train():\n",
    "    for i in range(len(x_train)):\n",
    "        error = y_train[i] - predict(x_train[i])\n",
    "        if error != 0:\n",
    "            w[0] += round(error * x_train[i][0] * speed, 2)\n",
    "            w[1] += round(error * x_train[i][1] * speed, 2)\n",
    "            w[2] += round(error * x_train[i][2] * speed, 2)\n",
    "            print('Новые веса:', w)\n",
    "\n",
    "def epoch(count):\n",
    "    for i in range(count):\n",
    "        train()\n",
    "\n",
    "speed = 0.3\n",
    "# w = [randint(0, 100) / 100, randint(0, 100) / 100, randint(0, 100) / 100]\n",
    "w = [1, -1, 1]\n",
    "print('Стартовые веса:', w)\n",
    "\n",
    "x_train = [[1, 1, 1], [1, 0, 1], [0, 1, 1], [0, 0, 1]]\n",
    "y_train = [0, 1, 1, 0]\n",
    "\n",
    "epoch(10)\n",
    "print('Конечные веса:', w)\n",
    "print('Результаты:', predict([1, 1, 1]), predict([1, 0, 1]), predict([0, 1, 1]), predict([0, 0, 1]))\n",
    "print('Верные:    ', *y_train, sep=' ')"
   ],
   "metadata": {
    "collapsed": false,
    "pycharm": {
     "name": "#%%\n"
    }
   }
  },
  {
   "cell_type": "raw",
   "source": [
    "Практическая работа №1. Задание 5.\n",
    "Обучение нейрона дельта методом для операции конъюнкция отрицания x1 и x2 c использованием нейрона смещения"
   ],
   "metadata": {
    "collapsed": false,
    "pycharm": {
     "name": "#%% raw\n"
    }
   }
  },
  {
   "cell_type": "code",
   "execution_count": 10,
   "outputs": [
    {
     "name": "stdout",
     "output_type": "stream",
     "text": [
      "Стартовые веса: [0.86, 0.33, 0.78]\n",
      "Новые веса: [0.36, -0.16999999999999998, 0.28]\n",
      "Новые веса: [0.36, 0.33, 0.78]\n",
      "Новые веса: [-0.14, -0.16999999999999998, 0.28]\n",
      "Новые веса: [-0.14, 0.33, 0.78]\n",
      "Конечные веса: [-0.14, 0.33, 0.78]\n",
      "Результаты: 0 0 1 0\n",
      "Верные:     0 0 1 0\n"
     ]
    }
   ],
   "source": [
    "from random import randint\n",
    "\n",
    "def predict(train_x: list) -> int:\n",
    "    pred = train_x[0] * w[0] + train_x[1] * w[1] + train_x[2] * w[2]\n",
    "    return 1 if pred >= 1 else 0\n",
    "\n",
    "def train():\n",
    "    for i in range(len(x_train)):\n",
    "        error = y_train[i] - predict(x_train[i])\n",
    "        if error != 0:\n",
    "            w[0] += round(error * x_train[i][0] * speed, 2)\n",
    "            w[1] += round(error * x_train[i][1] * speed, 2)\n",
    "            w[2] += round(error * x_train[i][2] * speed, 2)\n",
    "            print('Новые веса:', w)\n",
    "\n",
    "def epoch(count):\n",
    "    for i in range(count):\n",
    "        train()\n",
    "\n",
    "speed = 0.5\n",
    "w = [randint(0, 100) / 100, randint(0, 100) / 100, randint(0, 100) / 100]\n",
    "print('Стартовые веса:', w)\n",
    "\n",
    "x_train = [[1, 1, 1], [1, 0, 1], [0, 1, 1], [0, 0, 1]]\n",
    "y_train = [0, 0, 1, 0]\n",
    "\n",
    "epoch(10)\n",
    "print('Конечные веса:', w)\n",
    "print('Результаты:', predict([1, 1, 1]), predict([1, 0, 1]), predict([0, 1, 1]), predict([0, 0, 1]))\n",
    "print('Верные:    ', *y_train, sep=' ')"
   ],
   "metadata": {
    "collapsed": false,
    "pycharm": {
     "name": "#%%\n"
    }
   }
  },
  {
   "cell_type": "raw",
   "source": [
    "Практическая работа №1. Задание 5.\n",
    "Обучение нейрона дельта методом для операции конъюнкции x1 и отрицания x2 c использованием нейрона смещения"
   ],
   "metadata": {
    "collapsed": false,
    "pycharm": {
     "name": "#%% raw\n"
    }
   }
  },
  {
   "cell_type": "code",
   "execution_count": 11,
   "outputs": [
    {
     "name": "stdout",
     "output_type": "stream",
     "text": [
      "Стартовые веса: [0.53, 0.74, 0.3]\n",
      "Новые веса: [0.030000000000000027, 0.24, -0.2]\n",
      "Новые веса: [0.53, 0.24, 0.3]\n",
      "Новые веса: [0.030000000000000027, -0.26, -0.2]\n",
      "Новые веса: [0.53, -0.26, 0.3]\n",
      "Новые веса: [1.03, -0.26, 0.8]\n",
      "Новые веса: [0.53, -0.76, 0.30000000000000004]\n",
      "Новые веса: [1.03, -0.76, 0.8]\n",
      "Новые веса: [0.53, -1.26, 0.30000000000000004]\n",
      "Новые веса: [1.03, -1.26, 0.8]\n",
      "Конечные веса: [1.03, -1.26, 0.8]\n",
      "Результаты: 0 1 0 0\n",
      "Верные:     0 1 0 0\n"
     ]
    }
   ],
   "source": [
    "from random import randint\n",
    "\n",
    "def predict(train_x: list) -> int:\n",
    "    pred = train_x[0] * w[0] + train_x[1] * w[1] + train_x[2] * w[2]\n",
    "    return 1 if pred >= 1 else 0\n",
    "\n",
    "def train():\n",
    "    for i in range(len(x_train)):\n",
    "        error = y_train[i] - predict(x_train[i])\n",
    "        if error != 0:\n",
    "            w[0] += round(error * x_train[i][0] * speed, 2)\n",
    "            w[1] += round(error * x_train[i][1] * speed, 2)\n",
    "            w[2] += round(error * x_train[i][2] * speed, 2)\n",
    "            print('Новые веса:', w)\n",
    "\n",
    "def epoch(count):\n",
    "    for i in range(count):\n",
    "        train()\n",
    "\n",
    "speed = 0.5\n",
    "w = [randint(0, 100) / 100, randint(0, 100) / 100, randint(0, 100) / 100]\n",
    "print('Стартовые веса:', w)\n",
    "\n",
    "x_train = [[1, 1, 1], [1, 0, 1], [0, 1, 1], [0, 0, 1]]\n",
    "y_train = [0, 1, 0, 0]\n",
    "\n",
    "epoch(10)\n",
    "print('Конечные веса:', w)\n",
    "print('Результаты:', predict([1, 1, 1]), predict([1, 0, 1]), predict([0, 1, 1]), predict([0, 0, 1]))\n",
    "print('Верные:    ', *y_train, sep=' ')"
   ],
   "metadata": {
    "collapsed": false,
    "pycharm": {
     "name": "#%%\n"
    }
   }
  },
  {
   "cell_type": "raw",
   "source": [
    "Практическая работа №1. Задание 5.\n",
    "Обучение нейрона дельта методом для операции конъюнкция c использованием нейрона смещения и измененных параметров из задания 4"
   ],
   "metadata": {
    "collapsed": false,
    "pycharm": {
     "name": "#%% raw\n"
    }
   }
  },
  {
   "cell_type": "code",
   "execution_count": 12,
   "outputs": [
    {
     "name": "stdout",
     "output_type": "stream",
     "text": [
      "Стартовые веса: [0.88, 0.14, 0.52]\n",
      "Новые веса: [0.13, 0.14, -0.22999999999999998]\n",
      "Новые веса: [0.13, 0.89, 0.52]\n",
      "Новые веса: [0.13, 0.89, -0.22999999999999998]\n",
      "Новые веса: [0.88, 0.89, 0.52]\n",
      "Новые веса: [0.88, 0.14, -0.22999999999999998]\n",
      "Новые веса: [0.88, 0.14, 0.52]\n",
      "Новые веса: [0.13, 0.14, -0.22999999999999998]\n",
      "Новые веса: [0.13, 0.89, 0.52]\n",
      "Новые веса: [0.13, 0.89, -0.22999999999999998]\n",
      "Новые веса: [0.88, 0.89, 0.52]\n",
      "Новые веса: [0.88, 0.14, -0.22999999999999998]\n",
      "Новые веса: [0.88, 0.14, 0.52]\n",
      "Новые веса: [0.13, 0.14, -0.22999999999999998]\n",
      "Новые веса: [0.13, 0.89, 0.52]\n",
      "Новые веса: [0.13, 0.89, -0.22999999999999998]\n",
      "Новые веса: [0.88, 0.89, 0.52]\n",
      "Новые веса: [0.88, 0.14, -0.22999999999999998]\n",
      "Новые веса: [0.88, 0.14, 0.52]\n",
      "Новые веса: [0.13, 0.14, -0.22999999999999998]\n",
      "Новые веса: [0.13, 0.89, 0.52]\n",
      "Новые веса: [0.13, 0.89, -0.22999999999999998]\n",
      "Новые веса: [0.88, 0.89, 0.52]\n",
      "Новые веса: [0.88, 0.14, -0.22999999999999998]\n",
      "Новые веса: [0.88, 0.14, 0.52]\n",
      "Новые веса: [0.13, 0.14, -0.22999999999999998]\n",
      "Новые веса: [0.13, 0.89, 0.52]\n",
      "Новые веса: [0.13, 0.89, -0.22999999999999998]\n",
      "Новые веса: [0.88, 0.89, 0.52]\n",
      "Новые веса: [0.88, 0.14, -0.22999999999999998]\n",
      "Новые веса: [0.88, 0.14, 0.52]\n",
      "Конечные веса: [0.88, 0.14, 0.52]\n",
      "Результаты: 1 1 1 1\n",
      "Верные:     1 0 0 0\n"
     ]
    }
   ],
   "source": [
    "from random import randint\n",
    "\n",
    "def predict(train_x: list) -> int:\n",
    "    pred = train_x[0] * w[0] + train_x[1] * w[1] + train_x[2] * w[2]\n",
    "    return 1 if pred > 0 else -1\n",
    "\n",
    "def train():\n",
    "    for i in range(len(x_train)):\n",
    "        error = y_train[i] - predict(x_train[i])\n",
    "        if error != 0:\n",
    "            w[0] += round(error * x_train[i][0] * speed, 2)\n",
    "            w[1] += round(error * x_train[i][1] * speed, 2)\n",
    "            w[2] += round(error * x_train[i][2] * speed, 2)\n",
    "            print('Новые веса:', w)\n",
    "\n",
    "def epoch(count):\n",
    "    for i in range(count):\n",
    "        train()\n",
    "\n",
    "speed = 0.75\n",
    "w = [randint(0, 100) / 100, randint(0, 100) / 100, randint(0, 100) / 100]\n",
    "print('Стартовые веса:', w)\n",
    "\n",
    "x_train = [[1, 1, 1], [1, 0, 1], [0, 1, 1], [0, 0, 1]]\n",
    "y_train = [1, 0, 0, 0]\n",
    "\n",
    "epoch(10)\n",
    "print('Конечные веса:', w)\n",
    "print('Результаты:', predict([1, 1, 1]), predict([1, 0, 1]), predict([0, 1, 1]), predict([0, 0, 1]))\n",
    "print('Верные:    ', *y_train, sep=' ')"
   ],
   "metadata": {
    "collapsed": false,
    "pycharm": {
     "name": "#%%\n"
    }
   }
  }
 ],
 "metadata": {
  "kernelspec": {
   "display_name": "Python 3",
   "language": "python",
   "name": "python3"
  },
  "language_info": {
   "codemirror_mode": {
    "name": "ipython",
    "version": 2
   },
   "file_extension": ".py",
   "mimetype": "text/x-python",
   "name": "python",
   "nbconvert_exporter": "python",
   "pygments_lexer": "ipython2",
   "version": "2.7.6"
  }
 },
 "nbformat": 4,
 "nbformat_minor": 0
}