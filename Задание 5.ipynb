{
 "cells": [
  {
   "cell_type": "raw",
   "source": [
    "Практическая работа №1. Задание 5.\n",
    "Обучение нейрона дельта методом для операции конъюнкция c использованием нейрона смещения"
   ],
   "metadata": {
    "collapsed": false,
    "pycharm": {
     "name": "#%% raw\n"
    }
   }
  },
  {
   "cell_type": "code",
   "execution_count": 2,
   "outputs": [
    {
     "name": "stdout",
     "output_type": "stream",
     "text": [
      "Стартовые веса: [1.0, 0.93, 0.95]\n",
      "Новые веса: [0.5, 0.93, 0.45]\n",
      "Новые веса: [0.5, 0.43, -0.05]\n",
      "Новые веса: [1.0, 0.93, 0.45]\n",
      "Новые веса: [0.5, 0.93, -0.05]\n",
      "Конечные веса: [0.5, 0.93, -0.05]\n",
      "Результаты: 1 0 0 0\n",
      "Верные:     1 0 0 0\n"
     ]
    }
   ],
   "source": [
    "from random import randint\n",
    "\n",
    "def predict(train_x: list) -> int:\n",
    "    pred = train_x[0] * w[0] + train_x[1] * w[1] + train_x[2] * w[2]\n",
    "    return 1 if pred >= 1 else 0\n",
    "\n",
    "def train():\n",
    "    for i in range(len(x_train)):\n",
    "        error = y_train[i] - predict(x_train[i])\n",
    "        if error != 0:\n",
    "            w[0] = round(w[0] + error * x_train[i][0] * speed, 2)\n",
    "            w[1] = round(w[1] + error * x_train[i][1] * speed, 2)\n",
    "            w[2] = round(w[2] + error * x_train[i][2] * speed, 2)\n",
    "            print('Новые веса:', w)\n",
    "\n",
    "def epoch(count):\n",
    "    for i in range(count):\n",
    "        train()\n",
    "\n",
    "speed = 0.5\n",
    "w = [randint(0, 100) / 100, randint(0, 100) / 100, randint(0, 100) / 100]\n",
    "print('Стартовые веса:', w)\n",
    "\n",
    "x_train = [[1, 1, 1], [1, 0, 1], [0, 1, 1], [0, 0, 1]]\n",
    "y_train = [1, 0, 0, 0]\n",
    "\n",
    "epoch(5)\n",
    "print('Конечные веса:', w)\n",
    "print('Результаты:', predict([1, 1, 1]), predict([1, 0, 1]), predict([0, 1, 1]), predict([0, 0, 1]))\n",
    "print('Верные:    ', *y_train, sep=' ')"
   ],
   "metadata": {
    "collapsed": false,
    "pycharm": {
     "name": "#%%\n"
    }
   }
  },
  {
   "cell_type": "raw",
   "source": [
    "Практическая работа №1. Задание 5.\n",
    "Обучение нейрона дельта методом для операции дизъюнкция c использованием нейрона смещения"
   ],
   "metadata": {
    "collapsed": false,
    "pycharm": {
     "name": "#%% raw\n"
    }
   }
  },
  {
   "cell_type": "code",
   "execution_count": 4,
   "outputs": [
    {
     "name": "stdout",
     "output_type": "stream",
     "text": [
      "Стартовые веса: [0.89, 0.08, 0.08]\n",
      "Новые веса: [1.39, 0.08, 0.58]\n",
      "Новые веса: [1.39, 0.58, 1.08]\n",
      "Новые веса: [1.39, 0.58, 0.58]\n",
      "Конечные веса: [1.39, 0.58, 0.58]\n",
      "Результаты: 1 1 1 0\n",
      "Верные:     1 1 1 0\n"
     ]
    }
   ],
   "source": [
    "from random import randint\n",
    "\n",
    "def predict(train_x: list) -> int:\n",
    "    pred = train_x[0] * w[0] + train_x[1] * w[1] + train_x[2] * w[2]\n",
    "    return 1 if pred >= 1 else 0\n",
    "\n",
    "def train():\n",
    "    for i in range(len(x_train)):\n",
    "        error = y_train[i] - predict(x_train[i])\n",
    "        if error != 0:\n",
    "            w[0] = round(w[0] + error * x_train[i][0] * speed, 2)\n",
    "            w[1] = round(w[1] + error * x_train[i][1] * speed, 2)\n",
    "            w[2] = round(w[2] + error * x_train[i][2] * speed, 2)\n",
    "            print('Новые веса:', w)\n",
    "\n",
    "def epoch(count):\n",
    "    for i in range(count):\n",
    "        train()\n",
    "\n",
    "speed = 0.5\n",
    "w = [randint(0, 100) / 100, randint(0, 100) / 100, randint(0, 100) / 100]\n",
    "print('Стартовые веса:', w)\n",
    "\n",
    "x_train = [[1, 1, 1], [1, 0, 1], [0, 1, 1], [0, 0, 1]]\n",
    "y_train = [1, 1, 1, 0]\n",
    "\n",
    "epoch(5)\n",
    "print('Конечные веса:', w)\n",
    "print('Результаты:', predict([1, 1, 1]), predict([1, 0, 1]), predict([0, 1, 1]), predict([0, 0, 1]))\n",
    "print('Верные:    ', *y_train, sep=' ')"
   ],
   "metadata": {
    "collapsed": false,
    "pycharm": {
     "name": "#%%\n"
    }
   }
  },
  {
   "cell_type": "raw",
   "source": [
    "Практическая работа №1. Задание 5.\n",
    "Обучение нейрона дельта методом для операции операции XOR\n",
    "(используя один нейрон. В основе патент RU 2 269 155 C2 в образ. целях) c использованием нейрона смещения"
   ],
   "metadata": {
    "collapsed": false,
    "pycharm": {
     "name": "#%% raw\n"
    }
   }
  },
  {
   "cell_type": "code",
   "execution_count": 16,
   "outputs": [
    {
     "name": "stdout",
     "output_type": "stream",
     "text": [
      "Стартовые веса: [1, -1, 1]\n",
      "Новые веса: [0.7, -1.3, 0.7]\n",
      "Новые веса: [0.7, -1.3, 0.4]\n",
      "Конечные веса: [0.7, -1.3, 0.4]\n",
      "Результаты: 0 1 1 0\n",
      "Верные:     0 1 1 0\n"
     ]
    }
   ],
   "source": [
    "from random import randint\n",
    "\n",
    "def predict(train_x: list) -> int:\n",
    "    pred = abs(train_x[0] * w[0] + train_x[1] * w[1] + train_x[2] * w[2])\n",
    "    return 1 if pred >= 0.5 else 0\n",
    "\n",
    "def train():\n",
    "    for i in range(len(x_train)):\n",
    "        error = y_train[i] - predict(x_train[i])\n",
    "        if error != 0:\n",
    "            w[0] = round(w[0] + error * x_train[i][0] * speed, 2)\n",
    "            w[1] = round(w[1] + error * x_train[i][1] * speed, 2)\n",
    "            w[2] = round(w[2] + error * x_train[i][2] * speed, 2)\n",
    "            print('Новые веса:', w)\n",
    "\n",
    "def epoch(count):\n",
    "    for i in range(count):\n",
    "        train()\n",
    "\n",
    "speed = 0.3\n",
    "# w = [randint(0, 100) / 100, randint(0, 100) / 100, randint(0, 100) / 100]\n",
    "w = [1, -1, 1]\n",
    "print('Стартовые веса:', w)\n",
    "\n",
    "x_train = [[1, 1, 1], [1, 0, 1], [0, 1, 1], [0, 0, 1]]\n",
    "y_train = [0, 1, 1, 0]\n",
    "\n",
    "epoch(10)\n",
    "print('Конечные веса:', w)\n",
    "print('Результаты:', predict([1, 1, 1]), predict([1, 0, 1]), predict([0, 1, 1]), predict([0, 0, 1]))\n",
    "print('Верные:    ', *y_train, sep=' ')"
   ],
   "metadata": {
    "collapsed": false,
    "pycharm": {
     "name": "#%%\n"
    }
   }
  },
  {
   "cell_type": "raw",
   "source": [
    "Практическая работа №1. Задание 5.\n",
    "Обучение нейрона дельта методом для операции конъюнкция отрицания x1 и x2 c использованием нейрона смещения"
   ],
   "metadata": {
    "collapsed": false,
    "pycharm": {
     "name": "#%% raw\n"
    }
   }
  },
  {
   "cell_type": "code",
   "execution_count": 19,
   "outputs": [
    {
     "name": "stdout",
     "output_type": "stream",
     "text": [
      "Стартовые веса: [1, -1, 1]\n",
      "Новые веса: [0.5, -1.5, 0.5]\n",
      "Новые веса: [0.0, -1.5, 0.0]\n",
      "Новые веса: [0.0, -1.0, 0.5]\n",
      "Новые веса: [0.0, -0.5, 1.0]\n",
      "Новые веса: [0.0, -0.5, 0.5]\n",
      "Новые веса: [0.0, 0.0, 1.0]\n",
      "Новые веса: [0.0, 0.0, 0.5]\n",
      "Новые веса: [0.0, 0.5, 1.0]\n",
      "Новые веса: [0.0, 0.5, 0.5]\n",
      "Новые веса: [-0.5, 0.0, 0.0]\n",
      "Новые веса: [-0.5, 0.5, 0.5]\n",
      "Конечные веса: [-0.5, 0.5, 0.5]\n",
      "Результаты: 0 0 1 0\n",
      "Верные:     0 0 1 0\n"
     ]
    }
   ],
   "source": [
    "from random import randint\n",
    "\n",
    "def predict(train_x: list) -> int:\n",
    "    pred = train_x[0] * w[0] + train_x[1] * w[1] + train_x[2] * w[2]\n",
    "    return 1 if pred >= 1 else 0\n",
    "\n",
    "def train():\n",
    "    for i in range(len(x_train)):\n",
    "        error = y_train[i] - predict(x_train[i])\n",
    "        if error != 0:\n",
    "            w[0] = round(w[0] + error * x_train[i][0] * speed, 2)\n",
    "            w[1] = round(w[1] + error * x_train[i][1] * speed, 2)\n",
    "            w[2] = round(w[2] + error * x_train[i][2] * speed, 2)\n",
    "            print('Новые веса:', w)\n",
    "\n",
    "def epoch(count):\n",
    "    for i in range(count):\n",
    "        train()\n",
    "\n",
    "speed = 0.5\n",
    "# w = [randint(0, 100) / 100, randint(0, 100) / 100, randint(0, 100) / 100]\n",
    "w = [1, -1, 1]\n",
    "print('Стартовые веса:', w)\n",
    "\n",
    "x_train = [[1, 1, 1], [1, 0, 1], [0, 1, 1], [0, 0, 1]]\n",
    "y_train = [0, 0, 1, 0]\n",
    "\n",
    "epoch(10)\n",
    "print('Конечные веса:', w)\n",
    "print('Результаты:', predict([1, 1, 1]), predict([1, 0, 1]), predict([0, 1, 1]), predict([0, 0, 1]))\n",
    "print('Верные:    ', *y_train, sep=' ')"
   ],
   "metadata": {
    "collapsed": false,
    "pycharm": {
     "name": "#%%\n"
    }
   }
  },
  {
   "cell_type": "raw",
   "source": [
    "Практическая работа №1. Задание 5.\n",
    "Обучение нейрона дельта методом для операции конъюнкции x1 и отрицания x2 c использованием нейрона смещения"
   ],
   "metadata": {
    "collapsed": false,
    "pycharm": {
     "name": "#%% raw\n"
    }
   }
  },
  {
   "cell_type": "code",
   "execution_count": 20,
   "outputs": [
    {
     "name": "stdout",
     "output_type": "stream",
     "text": [
      "Стартовые веса: [1, -1, 1]\n",
      "Новые веса: [0.5, -1.5, 0.5]\n",
      "Конечные веса: [0.5, -1.5, 0.5]\n",
      "Результаты: 0 1 0 0\n",
      "Верные:     0 1 0 0\n"
     ]
    }
   ],
   "source": [
    "from random import randint\n",
    "\n",
    "def predict(train_x: list) -> int:\n",
    "    pred = train_x[0] * w[0] + train_x[1] * w[1] + train_x[2] * w[2]\n",
    "    return 1 if pred >= 1 else 0\n",
    "\n",
    "def train():\n",
    "    for i in range(len(x_train)):\n",
    "        error = y_train[i] - predict(x_train[i])\n",
    "        if error != 0:\n",
    "            w[0] = round(w[0] + error * x_train[i][0] * speed, 2)\n",
    "            w[1] = round(w[1] + error * x_train[i][1] * speed, 2)\n",
    "            w[2] = round(w[2] + error * x_train[i][2] * speed, 2)\n",
    "            print('Новые веса:', w)\n",
    "\n",
    "def epoch(count):\n",
    "    for i in range(count):\n",
    "        train()\n",
    "\n",
    "speed = 0.5\n",
    "# w = [randint(0, 100) / 100, randint(0, 100) / 100, randint(0, 100) / 100]\n",
    "w = [1, -1, 1]\n",
    "print('Стартовые веса:', w)\n",
    "\n",
    "x_train = [[1, 1, 1], [1, 0, 1], [0, 1, 1], [0, 0, 1]]\n",
    "y_train = [0, 1, 0, 0]\n",
    "\n",
    "epoch(10)\n",
    "print('Конечные веса:', w)\n",
    "print('Результаты:', predict([1, 1, 1]), predict([1, 0, 1]), predict([0, 1, 1]), predict([0, 0, 1]))\n",
    "print('Верные:    ', *y_train, sep=' ')"
   ],
   "metadata": {
    "collapsed": false,
    "pycharm": {
     "name": "#%%\n"
    }
   }
  },
  {
   "cell_type": "raw",
   "source": [
    "Практическая работа №1. Задание 5.\n",
    "Обучение нейрона дельта методом для операции конъюнкция c использованием нейрона смещения и измененных параметров из задания 4"
   ],
   "metadata": {
    "collapsed": false,
    "pycharm": {
     "name": "#%% raw\n"
    }
   }
  },
  {
   "cell_type": "code",
   "execution_count": 26,
   "outputs": [
    {
     "name": "stdout",
     "output_type": "stream",
     "text": [
      "Стартовые веса: [1, -1, 1]\n",
      "Новые веса: [0.25, -1.0, 0.25]\n",
      "Новые веса: [0.25, -0.25, 1.0]\n",
      "Новые веса: [0.25, -0.25, 0.25]\n",
      "Новые веса: [-0.5, -0.25, -0.5]\n",
      "Новые веса: [-0.5, 0.5, 0.25]\n",
      "Новые веса: [-0.5, 0.5, -0.5]\n",
      "Новые веса: [1.0, 2.0, 1.0]\n",
      "Новые веса: [0.25, 2.0, 0.25]\n",
      "Новые веса: [0.25, 1.25, -0.5]\n",
      "Новые веса: [0.25, 1.25, 0.25]\n",
      "Новые веса: [-0.5, 1.25, -0.5]\n",
      "Новые веса: [-0.5, 0.5, -1.25]\n",
      "Новые веса: [-0.5, 0.5, -0.5]\n",
      "Новые веса: [1.0, 2.0, 1.0]\n",
      "Новые веса: [0.25, 2.0, 0.25]\n",
      "Новые веса: [0.25, 1.25, -0.5]\n",
      "Новые веса: [0.25, 1.25, 0.25]\n",
      "Новые веса: [-0.5, 1.25, -0.5]\n",
      "Новые веса: [-0.5, 0.5, -1.25]\n",
      "Новые веса: [-0.5, 0.5, -0.5]\n",
      "Новые веса: [1.0, 2.0, 1.0]\n",
      "Новые веса: [0.25, 2.0, 0.25]\n",
      "Новые веса: [0.25, 1.25, -0.5]\n",
      "Новые веса: [0.25, 1.25, 0.25]\n",
      "Новые веса: [-0.5, 1.25, -0.5]\n",
      "Новые веса: [-0.5, 0.5, -1.25]\n",
      "Новые веса: [-0.5, 0.5, -0.5]\n",
      "Новые веса: [1.0, 2.0, 1.0]\n",
      "Новые веса: [0.25, 2.0, 0.25]\n",
      "Новые веса: [0.25, 1.25, -0.5]\n",
      "Новые веса: [0.25, 1.25, 0.25]\n",
      "Новые веса: [-0.5, 1.25, -0.5]\n",
      "Новые веса: [-0.5, 0.5, -1.25]\n",
      "Новые веса: [-0.5, 0.5, -0.5]\n",
      "Конечные веса: [-0.5, 0.5, -0.5]\n",
      "Результаты: -1 -1 -1 -1\n",
      "Верные:     1 0 0 0\n"
     ]
    }
   ],
   "source": [
    "from random import randint\n",
    "\n",
    "def predict(train_x: list) -> int:\n",
    "    pred = train_x[0] * w[0] + train_x[1] * w[1] + train_x[2] * w[2]\n",
    "    return 1 if pred > 0 else -1\n",
    "\n",
    "def train():\n",
    "    for i in range(len(x_train)):\n",
    "        error = y_train[i] - predict(x_train[i])\n",
    "        if error != 0:\n",
    "            w[0] = round(w[0] + error * x_train[i][0] * speed, 2)\n",
    "            w[1] = round(w[1] + error * x_train[i][1] * speed, 2)\n",
    "            w[2] = round(w[2] + error * x_train[i][2] * speed, 2)\n",
    "            print('Новые веса:', w)\n",
    "\n",
    "def epoch(count):\n",
    "    for i in range(count):\n",
    "        train()\n",
    "\n",
    "speed = 0.75\n",
    "# w = [randint(0, 100) / 100, randint(0, 100) / 100, randint(0, 100) / 100]\n",
    "w = [1, -1, 1]\n",
    "print('Стартовые веса:', w)\n",
    "\n",
    "x_train = [[1, 1, 1], [1, 0, 1], [0, 1, 1], [0, 0, 1]]\n",
    "y_train = [1, 0, 0, 0]\n",
    "\n",
    "epoch(10)\n",
    "print('Конечные веса:', w)\n",
    "print('Результаты:', predict([1, 1, 1]), predict([1, 0, 1]), predict([0, 1, 1]), predict([0, 0, 1]))\n",
    "print('Верные:    ', *y_train, sep=' ')"
   ],
   "metadata": {
    "collapsed": false,
    "pycharm": {
     "name": "#%%\n"
    }
   }
  },
  {
   "cell_type": "code",
   "execution_count": null,
   "outputs": [],
   "source": [],
   "metadata": {
    "collapsed": false,
    "pycharm": {
     "name": "#%%\n"
    }
   }
  }
 ],
 "metadata": {
  "kernelspec": {
   "display_name": "Python 3",
   "language": "python",
   "name": "python3"
  },
  "language_info": {
   "codemirror_mode": {
    "name": "ipython",
    "version": 2
   },
   "file_extension": ".py",
   "mimetype": "text/x-python",
   "name": "python",
   "nbconvert_exporter": "python",
   "pygments_lexer": "ipython2",
   "version": "2.7.6"
  }
 },
 "nbformat": 4,
 "nbformat_minor": 0
}