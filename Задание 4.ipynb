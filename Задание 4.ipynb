{
 "cells": [
  {
   "cell_type": "raw",
   "source": [
    "Практическая работа №1. Задание 4.\n",
    "Обучение нейрона дельта методом для операции конъюнкция с новыми параметрами"
   ],
   "metadata": {
    "collapsed": false
   }
  },
  {
   "cell_type": "code",
   "execution_count": 18,
   "outputs": [
    {
     "name": "stdout",
     "output_type": "stream",
     "text": [
      "Стартовые веса: [0.12, 0.28]\n",
      "Конечные веса: [1000.12, 1000.28]\n",
      "Результаты: 1 1 1 -1\n",
      "Верные:     1 0 0 0\n"
     ]
    }
   ],
   "source": [
    "from random import randint\n",
    "\n",
    "def predict(train_x: list) -> int:\n",
    "    pred = train_x[0] * w[0] + train_x[1] * w[1]\n",
    "    return 1 if pred > 0 else -1\n",
    "\n",
    "def train():\n",
    "    for i in range(len(x_train)):\n",
    "        error = y_train[i] - predict(x_train[i])\n",
    "        if error != 0:\n",
    "            w[0] = round(w[0] + error * x_train[i][0] * speed, 2)\n",
    "            w[1] = round(w[1] + error * x_train[i][1] * speed, 2)\n",
    "\n",
    "def epoch(count):\n",
    "    for i in range(count):\n",
    "        train()\n",
    "\n",
    "speed = -1\n",
    "w = [randint(0, 100) / 100, randint(0, 100) / 100]\n",
    "print('Стартовые веса:', w)\n",
    "\n",
    "x_train = [[1, 1], [1, 0], [0, 1], [0, 0]]\n",
    "y_train = [1, 0, 0, 0]\n",
    "\n",
    "epoch(1000)\n",
    "print('Конечные веса:', w)\n",
    "print('Результаты:', predict([1, 1]), predict([1, 0]), predict([0, 1]), predict([0, 0]))\n",
    "print('Верные:    ', *y_train, sep=' ')"
   ],
   "metadata": {
    "collapsed": false,
    "pycharm": {
     "name": "#%%\n"
    }
   }
  },
  {
   "cell_type": "code",
   "execution_count": null,
   "outputs": [],
   "source": [],
   "metadata": {
    "collapsed": false,
    "pycharm": {
     "name": "#%%\n"
    }
   }
  }
 ],
 "metadata": {
  "kernelspec": {
   "display_name": "Python 3",
   "language": "python",
   "name": "python3"
  },
  "language_info": {
   "codemirror_mode": {
    "name": "ipython",
    "version": 2
   },
   "file_extension": ".py",
   "mimetype": "text/x-python",
   "name": "python",
   "nbconvert_exporter": "python",
   "pygments_lexer": "ipython2",
   "version": "2.7.6"
  }
 },
 "nbformat": 4,
 "nbformat_minor": 0
}