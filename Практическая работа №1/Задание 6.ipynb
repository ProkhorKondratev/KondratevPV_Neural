{
 "cells": [
  {
   "cell_type": "raw",
   "metadata": {
    "collapsed": true,
    "pycharm": {
     "name": "#%% raw\n"
    }
   },
   "source": [
    "Практическая работа №1. Задание 6\n",
    "Обучение нейронной сети из 3-ех нейронов решать задачу XOR"
   ]
  },
  {
   "cell_type": "code",
   "execution_count": 53,
   "outputs": [
    {
     "name": "stdout",
     "output_type": "stream",
     "text": [
      "Стартовые веса:\n",
      "[0.92, 0.36]\n",
      "[0.58, 0.41]\n",
      "[0.75, 0.27]\n",
      "\n",
      "Конечные веса: [-0.58, 1.3599999999999999]\n",
      "Результаты: 0 0 1 0\n",
      "Верные:     0 0 1 0\n",
      "Конечные веса: [1.08, -0.09000000000000002]\n",
      "Результаты: 0 1 0 0\n",
      "Верные:     0 1 0 0\n",
      "Конечные веса: [1.25, 1.27]\n",
      "Результаты: 1 1 1 0\n",
      "Верные:     0 1 1 0\n"
     ]
    }
   ],
   "source": [
    "from random import randint\n",
    "\n",
    "def predict(train_x: list, ww: list) -> int:\n",
    "    pred = train_x[0] * ww[0] + train_x[1] * ww[1]\n",
    "    return 1 if pred >= 1 else 0\n",
    "\n",
    "def train(train_x, train_y, ww):\n",
    "    for i in range(len(train_x)):\n",
    "        error = train_y[i] - predict(train_x[i], ww)\n",
    "        if error != 0:\n",
    "            ww[0] += round(error * train_x[i][0] * speed, 2)\n",
    "            ww[1] += round(error * train_x[i][1] * speed, 2)\n",
    "\n",
    "def epoch(count, train_x, train_y, ww):\n",
    "    for _ in range(count):\n",
    "        train(train_x, train_y, ww)\n",
    "\n",
    "    print('Конечные веса:', ww)\n",
    "    print('Результаты:', predict([1, 1], ww), predict([1, 0], ww), predict([0, 1], ww), predict([0, 0], ww))\n",
    "    print('Верные:    ', *train_y, sep=' ')\n",
    "\n",
    "speed = 0.5\n",
    "w1 = [randint(0, 100) / 100, randint(0, 100) / 100]  # Веса первого нейрона\n",
    "w2 = [randint(0, 100) / 100, randint(0, 100) / 100]  # Веса второго нейрона\n",
    "w3 = [randint(0, 100) / 100, randint(0, 100) / 100]  # Веса третьего нейрона\n",
    "print(f'Стартовые веса:\\n{w1}\\n{w2}\\n{w3}\\n')\n",
    "\n",
    "x_train = [[1, 1], [1, 0], [0, 1], [0, 0]]\n",
    "y_train_neX1_x2 = [0, 0, 1, 0]\n",
    "y_train_x1_neX2 = [0, 1, 0, 0]\n",
    "y_train_XOR = [0, 1, 1, 0]\n",
    "\n",
    "epoch(10, x_train, y_train_neX1_x2, w1)\n",
    "epoch(10, x_train, y_train_x1_neX2, w2)\n",
    "\n",
    "x_train_XOR = []\n",
    "for i in range(len(x_train)):\n",
    "    val = [predict(x_train[i], w1), predict(x_train[i], w2)]\n",
    "    x_train_XOR.append(val)\n",
    "\n",
    "epoch(100, x_train_XOR, y_train_XOR, w3)"
   ],
   "metadata": {
    "collapsed": false,
    "pycharm": {
     "name": "#%%\n"
    }
   }
  },
  {
   "cell_type": "code",
   "execution_count": null,
   "outputs": [],
   "source": [],
   "metadata": {
    "collapsed": false,
    "pycharm": {
     "name": "#%%\n"
    }
   }
  }
 ],
 "metadata": {
  "kernelspec": {
   "display_name": "Python 3",
   "language": "python",
   "name": "python3"
  },
  "language_info": {
   "codemirror_mode": {
    "name": "ipython",
    "version": 2
   },
   "file_extension": ".py",
   "mimetype": "text/x-python",
   "name": "python",
   "nbconvert_exporter": "python",
   "pygments_lexer": "ipython2",
   "version": "2.7.6"
  }
 },
 "nbformat": 4,
 "nbformat_minor": 0
}