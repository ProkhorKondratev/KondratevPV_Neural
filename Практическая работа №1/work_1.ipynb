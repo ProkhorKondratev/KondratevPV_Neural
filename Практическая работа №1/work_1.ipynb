{
 "cells": [
  {
   "cell_type": "raw",
   "metadata": {
    "collapsed": true,
    "pycharm": {
     "name": "#%% raw\n"
    }
   },
   "source": [
    "Задание 1. Функция присваения весов"
   ]
  },
  {
   "cell_type": "code",
   "execution_count": 31,
   "outputs": [],
   "source": [
    "from random import randint\n",
    "\n",
    "def weight():\n",
    "  w = [randint(0, 100)/100,\n",
    "       randint(0, 100)/100]\n",
    "  return w"
   ],
   "metadata": {
    "collapsed": false,
    "pycharm": {
     "name": "#%%\n"
    }
   }
  },
  {
   "cell_type": "raw",
   "source": [
    "Задание 2. Функция проверки учебного набора"
   ],
   "metadata": {
    "collapsed": false,
    "pycharm": {
     "name": "#%% raw\n"
    }
   }
  },
  {
   "cell_type": "code",
   "execution_count": 32,
   "outputs": [],
   "source": [
    "x_train = [[1,1], [1,0], [0,1], [0,0]]\n",
    "def train_and_predict(w, y):\n",
    "  speed = 0.3\n",
    "  for i, x in enumerate(x_train):\n",
    "    summ = x[0] * w[0] + x[1] * w[1]\n",
    "    result = 1 if summ >= 1 else 0\n",
    "    error = y[i] - result\n",
    "    if error !=0:\n",
    "      w[0] = w[0] + error * x_train[i][0] * speed\n",
    "      w[1] = w[1] + error * x_train[i][1] * speed\n",
    "    print(w, error, y[i])"
   ],
   "metadata": {
    "collapsed": false,
    "pycharm": {
     "name": "#%%\n"
    }
   }
  },
  {
   "cell_type": "raw",
   "source": [
    "Задание 3. Обучение нейрона дельта методом для произведения логических операций"
   ],
   "metadata": {
    "collapsed": false,
    "pycharm": {
     "name": "#%% raw\n"
    }
   }
  },
  {
   "cell_type": "raw",
   "source": [
    "- - конъюнкция - -"
   ],
   "metadata": {
    "collapsed": false,
    "pycharm": {
     "name": "#%% raw\n"
    }
   }
  },
  {
   "cell_type": "code",
   "source": [
    "y1 = [1, 0, 0, 0]\n",
    "w1 = weight()\n",
    "w1"
   ],
   "metadata": {
    "collapsed": false,
    "pycharm": {
     "name": "#%%\n"
    }
   },
   "execution_count": 33,
   "outputs": [
    {
     "data": {
      "text/plain": "[0.76, 0.02]"
     },
     "execution_count": 33,
     "metadata": {},
     "output_type": "execute_result"
    }
   ]
  },
  {
   "cell_type": "code",
   "execution_count": 35,
   "outputs": [
    {
     "name": "stdout",
     "output_type": "stream",
     "text": [
      "[0.76, 0.32] 0 1\n",
      "[0.76, 0.32] 0 0\n",
      "[0.76, 0.32] 0 0\n",
      "[0.76, 0.32] 0 0\n"
     ]
    }
   ],
   "source": [
    "train_and_predict(w1, y1)"
   ],
   "metadata": {
    "collapsed": false,
    "pycharm": {
     "name": "#%%\n"
    }
   }
  },
  {
   "cell_type": "raw",
   "source": [
    "- - дизъюнкция - -"
   ],
   "metadata": {
    "collapsed": false,
    "pycharm": {
     "name": "#%% raw\n"
    }
   }
  },
  {
   "cell_type": "code",
   "source": [
    "y2 = [1, 1, 1, 0]\n",
    "w2 = weight()\n",
    "w2"
   ],
   "metadata": {
    "collapsed": false,
    "pycharm": {
     "name": "#%%\n"
    }
   },
   "execution_count": 36,
   "outputs": [
    {
     "data": {
      "text/plain": "[0.86, 0.16]"
     },
     "execution_count": 36,
     "metadata": {},
     "output_type": "execute_result"
    }
   ]
  },
  {
   "cell_type": "code",
   "execution_count": 40,
   "outputs": [
    {
     "name": "stdout",
     "output_type": "stream",
     "text": [
      "[1.16, 1.06] 0 1\n",
      "[1.16, 1.06] 0 1\n",
      "[1.16, 1.06] 0 1\n",
      "[1.16, 1.06] 0 0\n"
     ]
    }
   ],
   "source": [
    "train_and_predict(w2, y2)"
   ],
   "metadata": {
    "collapsed": false,
    "pycharm": {
     "name": "#%%\n"
    }
   }
  },
  {
   "cell_type": "raw",
   "source": [
    "- - XOR - -"
   ],
   "metadata": {
    "collapsed": false,
    "pycharm": {
     "name": "#%% raw\n"
    }
   }
  },
  {
   "cell_type": "code",
   "execution_count": 41,
   "outputs": [
    {
     "data": {
      "text/plain": "[0.88, 0.5]"
     },
     "execution_count": 41,
     "metadata": {},
     "output_type": "execute_result"
    }
   ],
   "source": [
    "y3 = [0, 1, 1, 0]\n",
    "w3 = weight()\n",
    "w3"
   ],
   "metadata": {
    "collapsed": false,
    "pycharm": {
     "name": "#%%\n"
    }
   }
  },
  {
   "cell_type": "code",
   "execution_count": 48,
   "outputs": [
    {
     "name": "stdout",
     "output_type": "stream",
     "text": [
      "[0.5800000000000001, 0.2] -1 0\n",
      "[0.8800000000000001, 0.2] 1 1\n",
      "[0.8800000000000001, 0.5] 1 1\n",
      "[0.8800000000000001, 0.5] 0 0\n"
     ]
    }
   ],
   "source": [
    "train_and_predict(w3, y3)"
   ],
   "metadata": {
    "collapsed": false,
    "pycharm": {
     "name": "#%%\n"
    }
   }
  },
  {
   "cell_type": "raw",
   "source": [
    "Не получится получить верный ответ, т.к. xor линейно нераздилимая операция. Без дополнительного нейрона не сделать"
   ],
   "metadata": {
    "collapsed": false,
    "pycharm": {
     "name": "#%% raw\n"
    }
   }
  },
  {
   "cell_type": "raw",
   "source": [
    "- - (a ^ ¬b) - -"
   ],
   "metadata": {
    "collapsed": false,
    "pycharm": {
     "name": "#%% raw\n"
    }
   }
  },
  {
   "cell_type": "code",
   "execution_count": 49,
   "outputs": [
    {
     "data": {
      "text/plain": "[0.62, 0.37]"
     },
     "execution_count": 49,
     "metadata": {},
     "output_type": "execute_result"
    }
   ],
   "source": [
    "y4 = [0, 0, 1, 0]\n",
    "w4 = weight()\n",
    "w4"
   ],
   "metadata": {
    "collapsed": false,
    "pycharm": {
     "name": "#%%\n"
    }
   }
  },
  {
   "cell_type": "code",
   "execution_count": 56,
   "outputs": [
    {
     "name": "stdout",
     "output_type": "stream",
     "text": [
      "[-0.27999999999999997, 1.27] 0 0\n",
      "[-0.27999999999999997, 1.27] 0 0\n",
      "[-0.27999999999999997, 1.27] 0 1\n",
      "[-0.27999999999999997, 1.27] 0 0\n"
     ]
    }
   ],
   "source": [
    "train_and_predict(w4 , y4)"
   ],
   "metadata": {
    "collapsed": false,
    "pycharm": {
     "name": "#%%\n"
    }
   }
  },
  {
   "cell_type": "raw",
   "source": [
    "- - (a ^ ¬b) - -"
   ],
   "metadata": {
    "collapsed": false,
    "pycharm": {
     "name": "#%% raw\n"
    }
   }
  },
  {
   "cell_type": "code",
   "execution_count": 57,
   "outputs": [
    {
     "data": {
      "text/plain": "[0.16, 0.22]"
     },
     "execution_count": 57,
     "metadata": {},
     "output_type": "execute_result"
    }
   ],
   "source": [
    "y5 = [0, 1, 0, 0]\n",
    "w5 = weight()\n",
    "w5"
   ],
   "metadata": {
    "collapsed": false,
    "pycharm": {
     "name": "#%%\n"
    }
   }
  },
  {
   "cell_type": "code",
   "execution_count": 62,
   "outputs": [
    {
     "name": "stdout",
     "output_type": "stream",
     "text": [
      "[1.06, -0.07999999999999999] 0 0\n",
      "[1.06, -0.07999999999999999] 0 1\n",
      "[1.06, -0.07999999999999999] 0 0\n",
      "[1.06, -0.07999999999999999] 0 0\n"
     ]
    }
   ],
   "source": [
    "train_and_predict(w5 , y5)"
   ],
   "metadata": {
    "collapsed": false,
    "pycharm": {
     "name": "#%%\n"
    }
   }
  },
  {
   "cell_type": "raw",
   "source": [
    "Задание 4. Измение кодировки данных и функции активации"
   ],
   "metadata": {
    "collapsed": false,
    "pycharm": {
     "name": "#%% raw\n"
    }
   }
  },
  {
   "cell_type": "raw",
   "source": [
    "- - на примере конъюнкции - -"
   ],
   "metadata": {
    "collapsed": false,
    "pycharm": {
     "name": "#%% raw\n"
    }
   }
  },
  {
   "cell_type": "code",
   "execution_count": 442,
   "outputs": [
    {
     "data": {
      "text/plain": "[0.3, 0.9]"
     },
     "execution_count": 442,
     "metadata": {},
     "output_type": "execute_result"
    }
   ],
   "source": [
    "y6 = [1, 0, 0, 0] # конъюнкция (a ^ b)\n",
    "w6 = weight()\n",
    "w6"
   ],
   "metadata": {
    "collapsed": false,
    "pycharm": {
     "name": "#%%\n"
    }
   }
  },
  {
   "cell_type": "code",
   "execution_count": 443,
   "outputs": [],
   "source": [
    "def train_and_predict_v2(w, y):\n",
    "  speed = 0.005\n",
    "  for i, x in enumerate(x_train):\n",
    "    summ = x[0] * w[0] + x[1] * w[1]\n",
    "    result = 1 if summ > 0 else -1\n",
    "    error = y[i] - result\n",
    "    if error !=0:\n",
    "      w[0] = w[0] + error * x_train[i][0] * speed\n",
    "      w[1] = w[1] + error * x_train[i][1] * speed\n",
    "    print(w, error, y[i])"
   ],
   "metadata": {
    "collapsed": false,
    "pycharm": {
     "name": "#%%\n"
    }
   }
  },
  {
   "cell_type": "code",
   "execution_count": 531,
   "outputs": [
    {
     "name": "stdout",
     "output_type": "stream",
     "text": [
      "[0.00499999999999979, 0.46499999999999964] 0 1\n",
      "[-2.0990154059319366e-16, 0.46499999999999964] -1 0\n",
      "[-2.0990154059319366e-16, 0.45999999999999963] -1 0\n",
      "[-2.0990154059319366e-16, 0.45999999999999963] 1 0\n"
     ]
    }
   ],
   "source": [
    "train_and_predict_v2(w6, y6)"
   ],
   "metadata": {
    "collapsed": false,
    "pycharm": {
     "name": "#%%\n"
    }
   }
  },
  {
   "cell_type": "raw",
   "source": [
    "Задание 5. Добавление нейрона смещения на вход"
   ],
   "metadata": {
    "collapsed": false,
    "pycharm": {
     "name": "#%% raw\n"
    }
   }
  },
  {
   "cell_type": "code",
   "execution_count": 89,
   "outputs": [
    {
     "data": {
      "text/plain": "[0.19, 0.15, 0.07]"
     },
     "execution_count": 89,
     "metadata": {},
     "output_type": "execute_result"
    }
   ],
   "source": [
    "w7 = [randint(0, 100)/100, randint(0, 100)/100, randint(0, 100)/100]\n",
    "train_x = [[1,1,1], [1,0,1], [0,1,1], [0,0,1]]\n",
    "y7 = [1, 1, 1, 0] # Для дизъюнкции\n",
    "\n",
    "w7"
   ],
   "metadata": {
    "collapsed": false,
    "pycharm": {
     "name": "#%%\n"
    }
   }
  },
  {
   "cell_type": "code",
   "execution_count": 92,
   "outputs": [],
   "source": [
    "def train_and_predict_v3(w, y):\n",
    "  speed = 0.3\n",
    "  for i, x in enumerate(train_x):\n",
    "    summ = x[0] * w[0] + x[1] * w[1] + x[2] * w[2]\n",
    "    result = 1 if summ >= 1 else 0\n",
    "    error = y[i] - result\n",
    "    if error !=0:\n",
    "      w[0] = w[0] + error * train_x[i][0] * speed\n",
    "      w[1] = w[1] + error * train_x[i][1] * speed\n",
    "      w[2] = w[2] + error * train_x[i][2] * speed\n",
    "    print(w, error, y[i])"
   ],
   "metadata": {
    "collapsed": false,
    "pycharm": {
     "name": "#%%\n"
    }
   }
  },
  {
   "cell_type": "code",
   "execution_count": 94,
   "outputs": [
    {
     "name": "stdout",
     "output_type": "stream",
     "text": [
      "[0.79, 0.44999999999999996, 0.6699999999999999] 0 1\n",
      "[0.79, 0.44999999999999996, 0.6699999999999999] 0 1\n",
      "[0.79, 0.44999999999999996, 0.6699999999999999] 0 1\n",
      "[0.79, 0.44999999999999996, 0.6699999999999999] 0 0\n"
     ]
    }
   ],
   "source": [
    "train_and_predict_v3(w7, y7)"
   ],
   "metadata": {
    "collapsed": false,
    "pycharm": {
     "name": "#%%\n"
    }
   }
  },
  {
   "cell_type": "raw",
   "source": [
    "Задание 6. Решение XOR с использованием трех нейронов"
   ],
   "metadata": {
    "collapsed": false,
    "pycharm": {
     "name": "#%% raw\n"
    }
   }
  },
  {
   "cell_type": "raw",
   "source": [
    "- - (¬a ^ b) - -"
   ],
   "metadata": {
    "collapsed": false,
    "pycharm": {
     "name": "#%% raw\n"
    }
   }
  },
  {
   "cell_type": "code",
   "execution_count": 414,
   "outputs": [
    {
     "data": {
      "text/plain": "[0.9, 0.57]"
     },
     "execution_count": 414,
     "metadata": {},
     "output_type": "execute_result"
    }
   ],
   "source": [
    "y8 = [0, 0, 1, 0]\n",
    "w8 = weight()\n",
    "w8"
   ],
   "metadata": {
    "collapsed": false,
    "pycharm": {
     "name": "#%%\n"
    }
   }
  },
  {
   "cell_type": "raw",
   "source": [
    "- - (a ^ ¬b) - -"
   ],
   "metadata": {
    "collapsed": false,
    "pycharm": {
     "name": "#%% raw\n"
    }
   }
  },
  {
   "cell_type": "code",
   "execution_count": 415,
   "outputs": [
    {
     "data": {
      "text/plain": "[0.08, 0.83]"
     },
     "execution_count": 415,
     "metadata": {},
     "output_type": "execute_result"
    }
   ],
   "source": [
    "y9 = [0, 1, 0, 0]\n",
    "w9 = weight()\n",
    "w9"
   ],
   "metadata": {
    "collapsed": false,
    "pycharm": {
     "name": "#%%\n"
    }
   }
  },
  {
   "cell_type": "raw",
   "source": [
    "- - (a ^ ¬b) v (¬a ^ b) - -"
   ],
   "metadata": {
    "collapsed": false,
    "pycharm": {
     "name": "#%% raw\n"
    }
   }
  },
  {
   "cell_type": "code",
   "execution_count": 416,
   "outputs": [
    {
     "data": {
      "text/plain": "[0.76, 0.65]"
     },
     "execution_count": 416,
     "metadata": {},
     "output_type": "execute_result"
    }
   ],
   "source": [
    "y10 = [0, 1, 1, 0]\n",
    "w10 = weight()\n",
    "w10"
   ],
   "metadata": {
    "collapsed": false,
    "pycharm": {
     "name": "#%%\n"
    }
   }
  },
  {
   "cell_type": "code",
   "execution_count": 417,
   "outputs": [],
   "source": [
    "def predict_xor(xx, ww, yy):\n",
    "  speed = 0.4\n",
    "  summ = xx[0] * ww[0] + xx[1] * ww[1]\n",
    "  result = 1 if summ >= 1 else 0\n",
    "  error = yy - result\n",
    "  if error !=0:\n",
    "    ww[0] = ww[0] + error * xx[0] * speed\n",
    "    ww[1] = ww[1] + error * xx[1] * speed\n",
    "  return result"
   ],
   "metadata": {
    "collapsed": false,
    "pycharm": {
     "name": "#%%\n"
    }
   }
  },
  {
   "cell_type": "code",
   "execution_count": 418,
   "outputs": [],
   "source": [
    "def train_and_predict_xor(ww1, ww2, ww3, yy1, yy2, yy3):\n",
    "  speed = 0.2\n",
    "  for i, x in enumerate(x_train):\n",
    "    summ = predict_xor(x, ww1, yy1[i]) * ww3[0] + predict_xor(x, ww2, yy2[i]) * ww3[1]\n",
    "    result = 1 if summ >= 1 else 0\n",
    "    error = yy3[i] - result\n",
    "    if error !=0:\n",
    "      ww3[0] = ww3[0] + error * x_train[i][0] * speed\n",
    "      ww3[1] = ww3[1] + error * x_train[i][1] * speed\n",
    "    print(ww3, error, yy3[i])"
   ],
   "metadata": {
    "collapsed": false,
    "pycharm": {
     "name": "#%%\n"
    }
   }
  },
  {
   "cell_type": "code",
   "execution_count": 425,
   "outputs": [
    {
     "name": "stdout",
     "output_type": "stream",
     "text": [
      "[1.3599999999999999, 1.25] 0 0\n",
      "[1.3599999999999999, 1.25] 0 1\n",
      "[1.3599999999999999, 1.25] 0 1\n",
      "[1.3599999999999999, 1.25] 0 0\n"
     ]
    }
   ],
   "source": [
    "train_and_predict_xor(w8, w9, w10, y8, y9, y10)"
   ],
   "metadata": {
    "collapsed": false,
    "pycharm": {
     "name": "#%%\n"
    }
   }
  }
 ],
 "metadata": {
  "kernelspec": {
   "display_name": "Python 3",
   "language": "python",
   "name": "python3"
  },
  "language_info": {
   "codemirror_mode": {
    "name": "ipython",
    "version": 2
   },
   "file_extension": ".py",
   "mimetype": "text/x-python",
   "name": "python",
   "nbconvert_exporter": "python",
   "pygments_lexer": "ipython2",
   "version": "2.7.6"
  }
 },
 "nbformat": 4,
 "nbformat_minor": 0
}