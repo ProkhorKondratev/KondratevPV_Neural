{
 "cells": [
  {
   "cell_type": "raw",
   "source": [
    "Практическая работа №1. Задание 1"
   ],
   "metadata": {
    "collapsed": false,
    "pycharm": {
     "name": "#%% raw\n"
    }
   }
  },
  {
   "cell_type": "code",
   "execution_count": null,
   "outputs": [],
   "source": [
    "from random import randint\n",
    "\n",
    "w = [randint(0, 100) / 100, randint(0, 100) / 100] # Присвоение случайных весов для w1 и w2"
   ],
   "metadata": {
    "collapsed": false,
    "pycharm": {
     "name": "#%%\n"
    }
   }
  },
  {
   "cell_type": "raw",
   "source": [
    "Практическая работа №1. Задание 2"
   ],
   "metadata": {
    "collapsed": false,
    "pycharm": {
     "name": "#%% raw\n"
    }
   }
  },
  {
   "cell_type": "code",
   "execution_count": null,
   "outputs": [],
   "source": [
    "def predict(x_train)-> int:\n",
    "    \"\"\"\n",
    "    Функция активации работы нейрона.\n",
    "    :param x_train: обучающая выборка значений\n",
    "    :return: 1, если нейрон определил истинность логической функции. Иначе 0\n",
    "    \"\"\"\n",
    "    pred = x_train[0] * w[0] + x_train[1] * w[1]\n",
    "    return 1 if pred >= 0 else 0"
   ],
   "metadata": {
    "collapsed": false,
    "pycharm": {
     "name": "#%%\n"
    }
   }
  }
 ],
 "metadata": {
  "kernelspec": {
   "display_name": "Python 3",
   "language": "python",
   "name": "python3"
  },
  "language_info": {
   "codemirror_mode": {
    "name": "ipython",
    "version": 2
   },
   "file_extension": ".py",
   "mimetype": "text/x-python",
   "name": "python",
   "nbconvert_exporter": "python",
   "pygments_lexer": "ipython2",
   "version": "2.7.6"
  }
 },
 "nbformat": 4,
 "nbformat_minor": 0
}